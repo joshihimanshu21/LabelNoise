{
 "cells": [
  {
   "cell_type": "code",
   "execution_count": 44,
   "metadata": {
    "collapsed": true
   },
   "outputs": [],
   "source": [
    "library(dummies)\n",
    "library(data.table)\n",
    "library(randomForest)\n",
    "library(party)\n",
    "library(e1071)\n",
    "library(dbscan)\n",
    "library(cluster)"
   ]
  },
  {
   "cell_type": "code",
   "execution_count": 21,
   "metadata": {
    "collapsed": true
   },
   "outputs": [],
   "source": [
    "data <- read.csv('Indian_Liver_Patient_Dataset.csv', header = TRUE)\n",
    "data <- na.omit(data)\n",
    "names(data)[1] <- paste('age')\n",
    "names(data)[2] <- paste('gender')\n",
    "names(data)[3] <- paste('total_bilirubin')\n",
    "names(data)[4] <- paste('direct_bilirubin')\n",
    "names(data)[5] <- paste('alkaline_phosphate')\n",
    "names(data)[6] <- paste('alamine_aminotransferase')\n",
    "names(data)[7] <- paste('Aspartate_Aminotransferase')\n",
    "names(data)[8] <- paste('Total_Protiens')\n",
    "names(data)[9] <- paste('Albumin')\n",
    "names(data)[10] <- paste('Albumin_and_Globulin_Ratio')\n",
    "names(data)[11] <- paste('Dataset')\n",
    "data <- dummy.data.frame(data, names=c('gender'), sep='_')"
   ]
  },
  {
   "cell_type": "code",
   "execution_count": 22,
   "metadata": {
    "collapsed": true
   },
   "outputs": [],
   "source": [
    "data$Dataset[data$Dataset == 1] <- 0\n",
    "data$Dataset[data$Dataset == 2] <- 1\n",
    "class0 <- data[which(data$Dataset == 0),]\n",
    "class1 <- data[which(data$Dataset == 1),]"
   ]
  },
  {
   "cell_type": "code",
   "execution_count": 23,
   "metadata": {
    "collapsed": true
   },
   "outputs": [],
   "source": [
    "noise <- function(class){\n",
    "    sample_rows = sample(1:nrow(class), 0.2*nrow(class), replace=FALSE, prob=NULL)\n",
    "    temp_data <- class[sample_rows,] \n",
    "#     print(class$Dataset)\n",
    "    return(as.numeric(rownames(temp_data)))\n",
    "}"
   ]
  },
  {
   "cell_type": "code",
   "execution_count": 24,
   "metadata": {},
   "outputs": [
    {
     "data": {
      "text/html": [
       "413"
      ],
      "text/latex": [
       "413"
      ],
      "text/markdown": [
       "413"
      ],
      "text/plain": [
       "[1] 413"
      ]
     },
     "metadata": {},
     "output_type": "display_data"
    },
    {
     "data": {
      "text/html": [
       "165"
      ],
      "text/latex": [
       "165"
      ],
      "text/markdown": [
       "165"
      ],
      "text/plain": [
       "[1] 165"
      ]
     },
     "metadata": {},
     "output_type": "display_data"
    },
    {
     "name": "stdout",
     "output_type": "stream",
     "text": [
      "[1] 115\n",
      "'data.frame':\t578 obs. of  12 variables:\n",
      " $ age                       : int  62 62 58 72 46 26 29 55 57 72 ...\n",
      " $ gender_Female             : int  0 0 0 0 0 1 1 0 0 0 ...\n",
      " $ gender_Male               : int  1 1 1 1 1 0 0 1 1 1 ...\n",
      " $ total_bilirubin           : num  10.9 7.3 1 3.9 1.8 0.9 0.9 0.7 0.6 2.7 ...\n",
      " $ direct_bilirubin          : num  5.5 4.1 0.4 2 0.7 0.2 0.3 0.2 0.1 1.3 ...\n",
      " $ alkaline_phosphate        : int  699 490 182 195 208 154 202 290 210 260 ...\n",
      " $ alamine_aminotransferase  : int  64 60 14 27 19 16 14 53 51 31 ...\n",
      " $ Aspartate_Aminotransferase: int  100 68 20 59 14 12 11 58 59 56 ...\n",
      " $ Total_Protiens            : num  7.5 7 6.8 7.3 7.6 7 6.7 6.8 5.9 7.4 ...\n",
      " $ Albumin                   : num  3.2 3.3 3.4 2.4 4.4 3.5 3.6 3.4 2.7 3 ...\n",
      " $ Albumin_and_Globulin_Ratio: num  0.74 0.89 1 0.4 1.3 1 1.1 1 0.8 0.6 ...\n",
      " $ Dataset                   : num  1 0 1 0 1 0 1 0 0 0 ...\n",
      " - attr(*, \"dummies\")=List of 1\n",
      "  ..$ gender: int  2 3\n"
     ]
    }
   ],
   "source": [
    "noise0 <- noise(class0)\n",
    "for(i in noise0){\n",
    "    class0[toString(i),]$Dataset = !class0[toString(i),]$Dataset\n",
    "}\n",
    "# print(class0$Dataset)\n",
    "noise1 <- noise(class1)\n",
    "for(i in noise1){\n",
    "    class1[toString(i),]$Dataset = !class1[toString(i),]$Dataset\n",
    "}\n",
    "# print(class1$Dataset)\n",
    "nrow(class0)\n",
    "nrow(class1)\n",
    "noise_indices <- c(noise0, noise1)\n",
    "print(length(noise_indices))\n",
    "mislabeled_data <- rbind(class0,class1)\n",
    "indices <- as.numeric(rownames(mislabeled_data))\n",
    "str(mislabeled_data)"
   ]
  },
  {
   "cell_type": "code",
   "execution_count": 25,
   "metadata": {},
   "outputs": [
    {
     "name": "stderr",
     "output_type": "stream",
     "text": [
      "Warning message:\n",
      "\"did not converge in 10 iterations\"Warning message:\n",
      "\"did not converge in 10 iterations\"Warning message:\n",
      "\"did not converge in 10 iterations\"Warning message:\n",
      "\"did not converge in 10 iterations\"Warning message:\n",
      "\"did not converge in 10 iterations\""
     ]
    },
    {
     "name": "stdout",
     "output_type": "stream",
     "text": [
      " [1] 102399634  63925335  42476473  26407869  19394358  14438506  12641331\n",
      " [8]  11275193  10067841   9417269   9130648   8764360   8516837   8364725\n",
      "[15]   8147560   7146767   6763788   6955262   7647213   6613261   6832922\n",
      "[22]   6634497   4959343   6736047   4976347\n"
     ]
    },
    {
     "data": {
      "image/png": "[encoded data removed]",
      "text/plain": [
       "plot without title"
      ]
     },
     "metadata": {},
     "output_type": "display_data"
    }
   ],
   "source": [
    "#Elbow_plot\n",
    "k <- c(1:25)\n",
    "SSE <- c()\n",
    "for(i in k){\n",
    "    clusters <- kmeans(mislabeled_data, i, nstart = 25)\n",
    "    SSE <- c(SSE, clusters$tot.withinss)\n",
    "}\n",
    "print(SSE)\n",
    "plot(k,SSE,type = \"b\", pch = 19, frame = FALSE, \n",
    "       xlab = \"Number of clusters K\",\n",
    "       ylab = \"SSEs\")"
   ]
  },
  {
   "cell_type": "code",
   "execution_count": 26,
   "metadata": {
    "collapsed": true
   },
   "outputs": [],
   "source": [
    "# From above cluster analysis (Elbow Plot) we can conclude optimal number of clusters to be 6\n",
    "temp <- mislabeled_data\n",
    "temp$Dataset <- NULL\n",
    "# summary(temp)\n",
    "km <- kmeans(temp, 2,nstart=10)\n",
    "# summary(km)\n",
    "# print(km$cluster)\n",
    "mislabeled_data$clusters=km$cluster "
   ]
  },
  {
   "cell_type": "code",
   "execution_count": 27,
   "metadata": {},
   "outputs": [
    {
     "data": {
      "image/png": "[encoded data removed]",
      "text/plain": [
       "Plot with title \"Cluster Dendrogram\""
      ]
     },
     "metadata": {},
     "output_type": "display_data"
    }
   ],
   "source": [
    "dist_mat <- dist(mislabeled_data, method='euclidean')\n",
    "clusterC <- hclust(dist_mat, method = 'ward.D2')\n",
    "plot(clusterC)\n",
    "clusterC_vector <- cutree(clusterC, k = 2)"
   ]
  },
  {
   "cell_type": "code",
   "execution_count": 28,
   "metadata": {},
   "outputs": [
    {
     "name": "stdout",
     "output_type": "stream",
     "text": [
      "'data.frame':\t578 obs. of  14 variables:\n",
      " $ age                       : int  62 62 58 72 46 26 29 55 57 72 ...\n",
      " $ gender_Female             : int  0 0 0 0 0 1 1 0 0 0 ...\n",
      " $ gender_Male               : int  1 1 1 1 1 0 0 1 1 1 ...\n",
      " $ total_bilirubin           : num  10.9 7.3 1 3.9 1.8 0.9 0.9 0.7 0.6 2.7 ...\n",
      " $ direct_bilirubin          : num  5.5 4.1 0.4 2 0.7 0.2 0.3 0.2 0.1 1.3 ...\n",
      " $ alkaline_phosphate        : int  699 490 182 195 208 154 202 290 210 260 ...\n",
      " $ alamine_aminotransferase  : int  64 60 14 27 19 16 14 53 51 31 ...\n",
      " $ Aspartate_Aminotransferase: int  100 68 20 59 14 12 11 58 59 56 ...\n",
      " $ Total_Protiens            : num  7.5 7 6.8 7.3 7.6 7 6.7 6.8 5.9 7.4 ...\n",
      " $ Albumin                   : num  3.2 3.3 3.4 2.4 4.4 3.5 3.6 3.4 2.7 3 ...\n",
      " $ Albumin_and_Globulin_Ratio: num  0.74 0.89 1 0.4 1.3 1 1.1 1 0.8 0.6 ...\n",
      " $ Dataset                   : num  1 0 1 0 1 0 1 0 0 0 ...\n",
      " $ clusters_1                : int  1 1 1 1 1 1 1 1 1 1 ...\n",
      " $ clusters_2                : int  0 0 0 0 0 0 0 0 0 0 ...\n",
      " - attr(*, \"dummies\")=List of 1\n",
      "  ..$ clusters: int  13 14\n"
     ]
    },
    {
     "data": {
      "text/html": [
       "<table>\n",
       "<thead><tr><th scope=col>age</th><th scope=col>gender_Female</th><th scope=col>gender_Male</th><th scope=col>total_bilirubin</th><th scope=col>direct_bilirubin</th><th scope=col>alkaline_phosphate</th><th scope=col>alamine_aminotransferase</th><th scope=col>Aspartate_Aminotransferase</th><th scope=col>Total_Protiens</th><th scope=col>Albumin</th><th scope=col>Albumin_and_Globulin_Ratio</th><th scope=col>Dataset</th><th scope=col>clusters_1</th><th scope=col>clusters_2</th></tr></thead>\n",
       "<tbody>\n",
       "\t<tr><td>62  </td><td>0   </td><td>1   </td><td>10.9</td><td>5.5 </td><td>699 </td><td>64  </td><td>100 </td><td>7.5 </td><td>3.2 </td><td>0.74</td><td>1   </td><td>1   </td><td>0   </td></tr>\n",
       "\t<tr><td>62  </td><td>0   </td><td>1   </td><td> 7.3</td><td>4.1 </td><td>490 </td><td>60  </td><td> 68 </td><td>7.0 </td><td>3.3 </td><td>0.89</td><td>0   </td><td>1   </td><td>0   </td></tr>\n",
       "\t<tr><td>58  </td><td>0   </td><td>1   </td><td> 1.0</td><td>0.4 </td><td>182 </td><td>14  </td><td> 20 </td><td>6.8 </td><td>3.4 </td><td>1.00</td><td>1   </td><td>1   </td><td>0   </td></tr>\n",
       "</tbody>\n",
       "</table>\n"
      ],
      "text/latex": [
       "\\begin{tabular}{r|llllllllllllll}\n",
       " age & gender\\_Female & gender\\_Male & total\\_bilirubin & direct\\_bilirubin & alkaline\\_phosphate & alamine\\_aminotransferase & Aspartate\\_Aminotransferase & Total\\_Protiens & Albumin & Albumin\\_and\\_Globulin\\_Ratio & Dataset & clusters\\_1 & clusters\\_2\\\\\n",
       "\\hline\n",
       "\t 62   & 0    & 1    & 10.9 & 5.5  & 699  & 64   & 100  & 7.5  & 3.2  & 0.74 & 1    & 1    & 0   \\\\\n",
       "\t 62   & 0    & 1    &  7.3 & 4.1  & 490  & 60   &  68  & 7.0  & 3.3  & 0.89 & 0    & 1    & 0   \\\\\n",
       "\t 58   & 0    & 1    &  1.0 & 0.4  & 182  & 14   &  20  & 6.8  & 3.4  & 1.00 & 1    & 1    & 0   \\\\\n",
       "\\end{tabular}\n"
      ],
      "text/markdown": [
       "\n",
       "age | gender_Female | gender_Male | total_bilirubin | direct_bilirubin | alkaline_phosphate | alamine_aminotransferase | Aspartate_Aminotransferase | Total_Protiens | Albumin | Albumin_and_Globulin_Ratio | Dataset | clusters_1 | clusters_2 | \n",
       "|---|---|---|\n",
       "| 62   | 0    | 1    | 10.9 | 5.5  | 699  | 64   | 100  | 7.5  | 3.2  | 0.74 | 1    | 1    | 0    | \n",
       "| 62   | 0    | 1    |  7.3 | 4.1  | 490  | 60   |  68  | 7.0  | 3.3  | 0.89 | 0    | 1    | 0    | \n",
       "| 58   | 0    | 1    |  1.0 | 0.4  | 182  | 14   |  20  | 6.8  | 3.4  | 1.00 | 1    | 1    | 0    | \n",
       "\n",
       "\n"
      ],
      "text/plain": [
       "  age gender_Female gender_Male total_bilirubin direct_bilirubin\n",
       "1 62  0             1           10.9            5.5             \n",
       "2 62  0             1            7.3            4.1             \n",
       "3 58  0             1            1.0            0.4             \n",
       "  alkaline_phosphate alamine_aminotransferase Aspartate_Aminotransferase\n",
       "1 699                64                       100                       \n",
       "2 490                60                        68                       \n",
       "3 182                14                        20                       \n",
       "  Total_Protiens Albumin Albumin_and_Globulin_Ratio Dataset clusters_1\n",
       "1 7.5            3.2     0.74                       1       1         \n",
       "2 7.0            3.3     0.89                       0       1         \n",
       "3 6.8            3.4     1.00                       1       1         \n",
       "  clusters_2\n",
       "1 0         \n",
       "2 0         \n",
       "3 0         "
      ]
     },
     "metadata": {},
     "output_type": "display_data"
    }
   ],
   "source": [
    "#oneHotencoding\n",
    "mislabeled_data <- dummy.data.frame(mislabeled_data, names=c('clusters'), sep='_')\n",
    "str(mislabeled_data)\n",
    "head(mislabeled_data,3)"
   ]
  },
  {
   "cell_type": "code",
   "execution_count": 29,
   "metadata": {},
   "outputs": [
    {
     "data": {
      "text/html": [
       "<dl class=dl-horizontal>\n",
       "\t<dt>FALSE</dt>\n",
       "\t\t<dd>405</dd>\n",
       "\t<dt>TRUE</dt>\n",
       "\t\t<dd>173</dd>\n",
       "</dl>\n"
      ],
      "text/latex": [
       "\\begin{description*}\n",
       "\\item[FALSE] 405\n",
       "\\item[TRUE] 173\n",
       "\\end{description*}\n"
      ],
      "text/markdown": [
       "FALSE\n",
       ":   405TRUE\n",
       ":   173\n",
       "\n"
      ],
      "text/plain": [
       "FALSE  TRUE \n",
       "  405   173 "
      ]
     },
     "metadata": {},
     "output_type": "display_data"
    },
    {
     "name": "stdout",
     "output_type": "stream",
     "text": [
      " Factor w/ 2 levels \"FALSE\",\"TRUE\": 1 1 2 1 2 1 1 1 1 1 ...\n",
      " - attr(*, \"names\")= chr [1:578] \"1\" \"2\" \"3\" \"4\" ...\n"
     ]
    }
   ],
   "source": [
    "# RandomForestClassifier\n",
    "set.seed(100)  # setting seed to reproduce results of random sampling\n",
    "trainingRowIndex <- sample(1:nrow(data), 0.67*nrow(data))  # row indices for training data\n",
    "trainingData <- mislabeled_data[trainingRowIndex, ]  # model training data\n",
    "xtest <- mislabeled_data\n",
    "# xtrain$Dataset <- NULL\n",
    "testData  <- mislabeled_data[-trainingRowIndex, ]   # test data\n",
    "trainingData$Dataset <- as.logical(trainingData$Dataset)\n",
    "rf <- randomForest(as.factor(Dataset) ~ ., data=trainingData)\n",
    "predicted = predict(rf,xtest) \n",
    "summary(predicted)\n",
    "str(predicted)\n"
   ]
  },
  {
   "cell_type": "code",
   "execution_count": 40,
   "metadata": {
    "scrolled": false
   },
   "outputs": [
    {
     "data": {
      "text/html": [
       "578"
      ],
      "text/latex": [
       "578"
      ],
      "text/markdown": [
       "578"
      ],
      "text/plain": [
       "[1] 578"
      ]
     },
     "metadata": {},
     "output_type": "display_data"
    },
    {
     "data": {
      "text/html": [
       "578"
      ],
      "text/latex": [
       "578"
      ],
      "text/markdown": [
       "578"
      ],
      "text/plain": [
       "[1] 578"
      ]
     },
     "metadata": {},
     "output_type": "display_data"
    },
    {
     "name": "stdout",
     "output_type": "stream",
     "text": [
      "[1] \"mil gaya\"\n",
      "[1] 579\n",
      "[1] NA\n",
      "  [1] FALSE  TRUE  TRUE  TRUE  TRUE  TRUE FALSE  TRUE  TRUE  TRUE  TRUE  TRUE\n",
      " [13]  TRUE  TRUE  TRUE  TRUE FALSE  TRUE  TRUE  TRUE  TRUE  TRUE  TRUE  TRUE\n",
      " [25]  TRUE  TRUE  TRUE FALSE  TRUE  TRUE  TRUE  TRUE  TRUE  TRUE  TRUE  TRUE\n",
      " [37]  TRUE  TRUE  TRUE  TRUE  TRUE  TRUE  TRUE  TRUE  TRUE  TRUE  TRUE  TRUE\n",
      " [49]  TRUE  TRUE  TRUE  TRUE  TRUE  TRUE  TRUE  TRUE  TRUE FALSE  TRUE  TRUE\n",
      " [61]  TRUE  TRUE  TRUE  TRUE  TRUE  TRUE  TRUE  TRUE  TRUE FALSE  TRUE  TRUE\n",
      " [73]  TRUE  TRUE  TRUE  TRUE  TRUE  TRUE  TRUE  TRUE  TRUE  TRUE  TRUE  TRUE\n",
      " [85]  TRUE  TRUE  TRUE  TRUE  TRUE  TRUE  TRUE  TRUE  TRUE  TRUE  TRUE  TRUE\n",
      " [97]  TRUE  TRUE  TRUE  TRUE  TRUE  TRUE  TRUE  TRUE  TRUE  TRUE  TRUE  TRUE\n",
      "[109]  TRUE  TRUE  TRUE  TRUE FALSE FALSE  TRUE FALSE  TRUE  TRUE FALSE  TRUE\n",
      "[121]  TRUE  TRUE  TRUE  TRUE  TRUE  TRUE  TRUE  TRUE  TRUE  TRUE  TRUE  TRUE\n",
      "[133]  TRUE  TRUE  TRUE  TRUE  TRUE  TRUE  TRUE  TRUE  TRUE  TRUE  TRUE FALSE\n",
      "[145]  TRUE  TRUE  TRUE  TRUE  TRUE  TRUE  TRUE  TRUE  TRUE  TRUE  TRUE  TRUE\n",
      "[157]  TRUE  TRUE  TRUE  TRUE  TRUE  TRUE  TRUE  TRUE  TRUE  TRUE  TRUE  TRUE\n",
      "[169]  TRUE  TRUE  TRUE  TRUE  TRUE  TRUE  TRUE  TRUE  TRUE  TRUE  TRUE  TRUE\n",
      "[181]  TRUE  TRUE  TRUE  TRUE  TRUE  TRUE  TRUE FALSE  TRUE  TRUE  TRUE  TRUE\n",
      "[193]  TRUE  TRUE  TRUE  TRUE  TRUE  TRUE  TRUE  TRUE  TRUE  TRUE  TRUE  TRUE\n",
      "[205]  TRUE  TRUE  TRUE  TRUE  TRUE  TRUE  TRUE  TRUE  TRUE  TRUE  TRUE  TRUE\n",
      "[217]  TRUE  TRUE  TRUE  TRUE  TRUE  TRUE  TRUE  TRUE  TRUE  TRUE  TRUE  TRUE\n",
      "[229]  TRUE  TRUE  TRUE FALSE  TRUE  TRUE  TRUE  TRUE  TRUE  TRUE  TRUE  TRUE\n",
      "[241]  TRUE  TRUE FALSE  TRUE  TRUE  TRUE  TRUE FALSE  TRUE  TRUE  TRUE  TRUE\n",
      "[253]  TRUE  TRUE  TRUE FALSE  TRUE  TRUE  TRUE  TRUE  TRUE  TRUE  TRUE FALSE\n",
      "[265]  TRUE  TRUE  TRUE  TRUE  TRUE  TRUE  TRUE  TRUE  TRUE  TRUE  TRUE  TRUE\n",
      "[277]  TRUE  TRUE  TRUE  TRUE FALSE  TRUE  TRUE  TRUE  TRUE  TRUE  TRUE  TRUE\n",
      "[289] FALSE  TRUE  TRUE  TRUE  TRUE  TRUE  TRUE  TRUE  TRUE  TRUE  TRUE  TRUE\n",
      "[301]  TRUE  TRUE  TRUE  TRUE  TRUE  TRUE  TRUE  TRUE  TRUE  TRUE  TRUE  TRUE\n",
      "[313]  TRUE  TRUE  TRUE  TRUE  TRUE  TRUE  TRUE  TRUE  TRUE  TRUE  TRUE  TRUE\n",
      "[325]  TRUE  TRUE  TRUE  TRUE  TRUE  TRUE  TRUE  TRUE  TRUE  TRUE  TRUE FALSE\n",
      "[337] FALSE  TRUE  TRUE  TRUE  TRUE  TRUE  TRUE  TRUE  TRUE  TRUE  TRUE  TRUE\n",
      "[349]  TRUE  TRUE  TRUE  TRUE FALSE  TRUE  TRUE  TRUE  TRUE  TRUE  TRUE  TRUE\n",
      "[361]  TRUE  TRUE  TRUE  TRUE FALSE  TRUE  TRUE  TRUE  TRUE  TRUE  TRUE  TRUE\n",
      "[373] FALSE  TRUE  TRUE  TRUE  TRUE  TRUE  TRUE  TRUE  TRUE  TRUE  TRUE  TRUE\n",
      "[385]  TRUE  TRUE  TRUE  TRUE  TRUE  TRUE  TRUE  TRUE  TRUE  TRUE  TRUE  TRUE\n",
      "[397]  TRUE  TRUE  TRUE FALSE  TRUE  TRUE  TRUE  TRUE  TRUE  TRUE  TRUE  TRUE\n",
      "[409]  TRUE  TRUE  TRUE FALSE  TRUE  TRUE FALSE  TRUE  TRUE  TRUE  TRUE  TRUE\n",
      "[421]  TRUE  TRUE  TRUE  TRUE FALSE  TRUE  TRUE  TRUE  TRUE FALSE  TRUE  TRUE\n",
      "[433]  TRUE  TRUE  TRUE  TRUE  TRUE  TRUE  TRUE FALSE  TRUE  TRUE  TRUE  TRUE\n",
      "[445]  TRUE  TRUE  TRUE  TRUE  TRUE  TRUE  TRUE  TRUE  TRUE  TRUE  TRUE FALSE\n",
      "[457]  TRUE FALSE  TRUE  TRUE  TRUE FALSE FALSE  TRUE  TRUE  TRUE  TRUE  TRUE\n",
      "[469]  TRUE  TRUE FALSE  TRUE  TRUE  TRUE FALSE  TRUE FALSE  TRUE  TRUE FALSE\n",
      "[481]  TRUE  TRUE  TRUE  TRUE  TRUE  TRUE  TRUE  TRUE  TRUE  TRUE  TRUE  TRUE\n",
      "[493]  TRUE  TRUE  TRUE  TRUE  TRUE  TRUE  TRUE  TRUE  TRUE  TRUE FALSE  TRUE\n",
      "[505]  TRUE FALSE FALSE  TRUE  TRUE FALSE  TRUE FALSE  TRUE  TRUE  TRUE  TRUE\n",
      "[517]  TRUE FALSE  TRUE  TRUE  TRUE  TRUE  TRUE  TRUE  TRUE  TRUE  TRUE  TRUE\n",
      "[529]  TRUE  TRUE  TRUE  TRUE  TRUE FALSE  TRUE  TRUE  TRUE  TRUE  TRUE  TRUE\n",
      "[541]  TRUE FALSE FALSE  TRUE  TRUE  TRUE FALSE  TRUE  TRUE  TRUE FALSE FALSE\n",
      "[553]  TRUE  TRUE  TRUE  TRUE  TRUE  TRUE  TRUE  TRUE  TRUE  TRUE  TRUE  TRUE\n",
      "[565] FALSE  TRUE  TRUE  TRUE FALSE FALSE FALSE  TRUE  TRUE  TRUE FALSE FALSE\n",
      "[577]  TRUE  TRUE\n",
      "[1] 9\n",
      "[1] 115\n"
     ]
    }
   ],
   "source": [
    "mislabeled_data$predicted = predicted\n",
    "# str(mislabeled_data)\n",
    "# mislabeled_data$predicted<-as.numeric(mislabeled_data$predicted)\n",
    "a<-as.numeric(mislabeled_data$predicted)\n",
    "b<-mislabeled_data$Dataset\n",
    "# print(a)\n",
    "# print(b)\n",
    "a <- na.omit(a)\n",
    "b <- na.omit(b)\n",
    "length(a)\n",
    "length(b)\n",
    "detected <- c()\n",
    "count <- 0\n",
    "for(i in indices){\n",
    "    if(is.na(a[i])){\n",
    "        print('mil gaya')\n",
    "        print(i)\n",
    "        print(a[i])\n",
    "        break\n",
    "    }\n",
    "    \n",
    "    if (a[i] != (b[i]+1)){\n",
    "        detected <- c(detected,i)\n",
    "        }\n",
    "}\n",
    "print(a!=b)\n",
    "for(i in detected){\n",
    "    if (i %in% noise_indices){\n",
    "        count=count+1\n",
    "    }\n",
    "}\n",
    "print(count)\n",
    "print(length(noise_indices))"
   ]
  },
  {
   "cell_type": "code",
   "execution_count": 42,
   "metadata": {},
   "outputs": [
    {
     "data": {
      "text/html": [
       "<ol class=list-inline>\n",
       "\t<li>1</li>\n",
       "\t<li>7</li>\n",
       "\t<li>50</li>\n",
       "\t<li>58</li>\n",
       "\t<li>70</li>\n",
       "\t<li>113</li>\n",
       "\t<li>116</li>\n",
       "\t<li>119</li>\n",
       "\t<li>139</li>\n",
       "\t<li>144</li>\n",
       "\t<li>188</li>\n",
       "\t<li>196</li>\n",
       "\t<li>208</li>\n",
       "\t<li>231</li>\n",
       "\t<li>232</li>\n",
       "\t<li>243</li>\n",
       "\t<li>248</li>\n",
       "\t<li>256</li>\n",
       "\t<li>261</li>\n",
       "\t<li>280</li>\n",
       "\t<li>289</li>\n",
       "\t<li>336</li>\n",
       "\t<li>337</li>\n",
       "\t<li>353</li>\n",
       "\t<li>380</li>\n",
       "\t<li>412</li>\n",
       "\t<li>415</li>\n",
       "\t<li>425</li>\n",
       "\t<li>430</li>\n",
       "\t<li>440</li>\n",
       "\t<li>442</li>\n",
       "\t<li>451</li>\n",
       "\t<li>458</li>\n",
       "\t<li>462</li>\n",
       "\t<li>463</li>\n",
       "\t<li>477</li>\n",
       "\t<li>503</li>\n",
       "\t<li>506</li>\n",
       "\t<li>507</li>\n",
       "\t<li>518</li>\n",
       "\t<li>520</li>\n",
       "\t<li>543</li>\n",
       "\t<li>547</li>\n",
       "\t<li>552</li>\n",
       "\t<li>565</li>\n",
       "\t<li>569</li>\n",
       "\t<li>570</li>\n",
       "\t<li>571</li>\n",
       "\t<li>575</li>\n",
       "\t<li>576</li>\n",
       "</ol>\n"
      ],
      "text/latex": [
       "\\begin{enumerate*}\n",
       "\\item 1\n",
       "\\item 7\n",
       "\\item 50\n",
       "\\item 58\n",
       "\\item 70\n",
       "\\item 113\n",
       "\\item 116\n",
       "\\item 119\n",
       "\\item 139\n",
       "\\item 144\n",
       "\\item 188\n",
       "\\item 196\n",
       "\\item 208\n",
       "\\item 231\n",
       "\\item 232\n",
       "\\item 243\n",
       "\\item 248\n",
       "\\item 256\n",
       "\\item 261\n",
       "\\item 280\n",
       "\\item 289\n",
       "\\item 336\n",
       "\\item 337\n",
       "\\item 353\n",
       "\\item 380\n",
       "\\item 412\n",
       "\\item 415\n",
       "\\item 425\n",
       "\\item 430\n",
       "\\item 440\n",
       "\\item 442\n",
       "\\item 451\n",
       "\\item 458\n",
       "\\item 462\n",
       "\\item 463\n",
       "\\item 477\n",
       "\\item 503\n",
       "\\item 506\n",
       "\\item 507\n",
       "\\item 518\n",
       "\\item 520\n",
       "\\item 543\n",
       "\\item 547\n",
       "\\item 552\n",
       "\\item 565\n",
       "\\item 569\n",
       "\\item 570\n",
       "\\item 571\n",
       "\\item 575\n",
       "\\item 576\n",
       "\\end{enumerate*}\n"
      ],
      "text/markdown": [
       "1. 1\n",
       "2. 7\n",
       "3. 50\n",
       "4. 58\n",
       "5. 70\n",
       "6. 113\n",
       "7. 116\n",
       "8. 119\n",
       "9. 139\n",
       "10. 144\n",
       "11. 188\n",
       "12. 196\n",
       "13. 208\n",
       "14. 231\n",
       "15. 232\n",
       "16. 243\n",
       "17. 248\n",
       "18. 256\n",
       "19. 261\n",
       "20. 280\n",
       "21. 289\n",
       "22. 336\n",
       "23. 337\n",
       "24. 353\n",
       "25. 380\n",
       "26. 412\n",
       "27. 415\n",
       "28. 425\n",
       "29. 430\n",
       "30. 440\n",
       "31. 442\n",
       "32. 451\n",
       "33. 458\n",
       "34. 462\n",
       "35. 463\n",
       "36. 477\n",
       "37. 503\n",
       "38. 506\n",
       "39. 507\n",
       "40. 518\n",
       "41. 520\n",
       "42. 543\n",
       "43. 547\n",
       "44. 552\n",
       "45. 565\n",
       "46. 569\n",
       "47. 570\n",
       "48. 571\n",
       "49. 575\n",
       "50. 576\n",
       "\n",
       "\n"
      ],
      "text/plain": [
       " [1]   1   7  50  58  70 113 116 119 139 144 188 196 208 231 232 243 248 256 261\n",
       "[20] 280 289 336 337 353 380 412 415 425 430 440 442 451 458 462 463 477 503 506\n",
       "[39] 507 518 520 543 547 552 565 569 570 571 575 576"
      ]
     },
     "metadata": {},
     "output_type": "display_data"
    },
    {
     "data": {
      "text/html": [
       "50"
      ],
      "text/latex": [
       "50"
      ],
      "text/markdown": [
       "50"
      ],
      "text/plain": [
       "[1] 50"
      ]
     },
     "metadata": {},
     "output_type": "display_data"
    }
   ],
   "source": [
    "detected\n",
    "length(detected)"
   ]
  },
  {
   "cell_type": "code",
   "execution_count": 19,
   "metadata": {},
   "outputs": [
    {
     "data": {
      "text/plain": [
       "        Length Class  Mode   \n",
       "apriori  2     table  numeric\n",
       "tables  13     -none- list   \n",
       "levels   2     -none- logical\n",
       "call     4     -none- call   "
      ]
     },
     "metadata": {},
     "output_type": "display_data"
    }
   ],
   "source": [
    "\n",
    "# Fitting model\n",
    "fit <-naiveBayes(trainingData$Dataset ~ ., data = trainingData)\n",
    "summary(fit)\n",
    "#Predict Output \n",
    "x_test <- mislabeled_data\n",
    "x_test$Dataset <- NULL \n",
    "predicted = predict(fit,x_test)"
   ]
  },
  {
   "cell_type": "code",
   "execution_count": 415,
   "metadata": {},
   "outputs": [
    {
     "ename": "ERROR",
     "evalue": "Error in if (mislabeled_data$Dataset[i] != mislabeled_data$predicted[i]) {: missing value where TRUE/FALSE needed\n",
     "output_type": "error",
     "traceback": [
      "Error in if (mislabeled_data$Dataset[i] != mislabeled_data$predicted[i]) {: missing value where TRUE/FALSE needed\nTraceback:\n"
     ]
    }
   ],
   "source": [
    "mislabeled_data$predicted=predicted\n",
    "detected <- c()\n",
    "count <- 0\n",
    "for(i in indices){\n",
    "    if(mislabeled_data$Dataset[i] != mislabeled_data$predicted[i]){\n",
    "        detected<-c(detected,i)\n",
    "        }\n",
    "}        \n",
    "for(i in detected){\n",
    "    if (i %in% noisy_indices){\n",
    "        cnt=cnt+1\n",
    "    }\n",
    "}\n",
    "print(cnt,len(noisy_indices))"
   ]
  },
  {
   "cell_type": "code",
   "execution_count": 520,
   "metadata": {},
   "outputs": [
    {
     "name": "stderr",
     "output_type": "stream",
     "text": [
      "Warning message:\n",
      "\"did not converge in 10 iterations\""
     ]
    },
    {
     "data": {
      "image/png": "[encoded data removed]",
      "text/plain": [
       "plot without title"
      ]
     },
     "metadata": {},
     "output_type": "display_data"
    }
   ],
   "source": [
    "avg_sil <- function(k) {\n",
    "  km.res <- kmeans(mislabeled_data, k, nstart = 25)\n",
    "  ss <- silhouette(km.res$cluster, dist(mislabeled_data))\n",
    "  mean(ss[, 3])\n",
    "}\n",
    "\n",
    "# Compute and plot wss for k = 2 to k = 15\n",
    "k.values <- 2:15\n",
    "avg_sil_values <- c()\n",
    "# extract avg silhouette for 2-15 clusters\n",
    "for(i in k.values){\n",
    "    avg_sil_values <- c(avg_sil_values,avg_sil(i))\n",
    "}\n",
    "\n",
    "\n",
    "plot(k.values, avg_sil_values,\n",
    "       type = \"b\", pch = 19, frame = FALSE, \n",
    "       xlab = \"Number of clusters K\",\n",
    "       ylab = \"Average Silhouettes\")"
   ]
  },
  {
   "cell_type": "code",
   "execution_count": 45,
   "metadata": {},
   "outputs": [
    {
     "data": {
      "image/png": "[encoded data removed]",
      "text/plain": [
       "plot without title"
      ]
     },
     "metadata": {},
     "output_type": "display_data"
    }
   ],
   "source": [
    "lof <- lof(as.matrix(data),k=5)\n",
    "pairs(as.matrix(data), cex=lof)"
   ]
  },
  {
   "cell_type": "code",
   "execution_count": 82,
   "metadata": {
    "collapsed": true
   },
   "outputs": [],
   "source": [
    "mislabeled_data$predicted <- as.numeric(mislabeled_data$predicted)\n",
    "db <- dbscan(as.matrix(data), eps=250, minPts=40)"
   ]
  },
  {
   "cell_type": "code",
   "execution_count": 83,
   "metadata": {},
   "outputs": [
    {
     "name": "stdout",
     "output_type": "stream",
     "text": [
      "DBSCAN clustering for 578 objects.\n",
      "Parameters: eps = 250, minPts = 40\n",
      "The clustering contains 1 cluster(s) and 38 noise points.\n",
      "\n",
      "  0   1 \n",
      " 38 540 \n",
      "\n",
      "Available fields: cluster, eps, minPts\n"
     ]
    }
   ],
   "source": [
    "print(db)"
   ]
  },
  {
   "cell_type": "code",
   "execution_count": 58,
   "metadata": {},
   "outputs": [
    {
     "data": {
      "image/png": "[encoded data removed]",
      "text/plain": [
       "plot without title"
      ]
     },
     "metadata": {},
     "output_type": "display_data"
    }
   ],
   "source": [
    "dbscan::kNNdistplot(mislabeled_data, k =  40)\n",
    "abline(h = 250, lty = 2)"
   ]
  },
  {
   "cell_type": "code",
   "execution_count": 84,
   "metadata": {},
   "outputs": [
    {
     "data": {
      "image/png": "[encoded data removed]",
      "text/plain": [
       "plot without title"
      ]
     },
     "metadata": {},
     "output_type": "display_data"
    }
   ],
   "source": [
    "pairs(as.matrix(data), col = db$cluster + 1L)"
   ]
  },
  {
   "cell_type": "code",
   "execution_count": null,
   "metadata": {
    "collapsed": true
   },
   "outputs": [],
   "source": []
  }
 ],
 "metadata": {
  "kernelspec": {
   "display_name": "R",
   "language": "R",
   "name": "ir"
  },
  "language_info": {
   "codemirror_mode": "r",
   "file_extension": ".r",
   "mimetype": "text/x-r-source",
   "name": "R",
   "pygments_lexer": "r",
   "version": "3.5.1"
  }
 },
 "nbformat": 4,
 "nbformat_minor": 2
}
