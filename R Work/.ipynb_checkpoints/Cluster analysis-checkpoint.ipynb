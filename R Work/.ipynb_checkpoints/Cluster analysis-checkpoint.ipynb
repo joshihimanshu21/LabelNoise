{
 "cells": [
  {
   "cell_type": "code",
   "execution_count": 1,
   "metadata": {},
   "outputs": [
    {
     "name": "stderr",
     "output_type": "stream",
     "text": [
      "dummies-1.5.6 provided by Decision Patterns\n",
      "\n",
      "Loading required package: grid\n",
      "Loading required package: mvtnorm\n",
      "Loading required package: modeltools\n",
      "Loading required package: stats4\n",
      "Loading required package: strucchange\n",
      "Loading required package: zoo\n",
      "\n",
      "Attaching package: 'zoo'\n",
      "\n",
      "The following objects are masked from 'package:base':\n",
      "\n",
      "    as.Date, as.Date.numeric\n",
      "\n",
      "Loading required package: sandwich\n",
      "-- Attaching packages --------------------------------------- tidyverse 1.2.1 --\n",
      "v ggplot2 3.0.0     v purrr   0.2.5\n",
      "v tibble  1.4.2     v dplyr   0.7.6\n",
      "v tidyr   0.8.1     v stringr 1.3.1\n",
      "v readr   1.1.1     v forcats 0.3.0\n",
      "-- Conflicts ------------------------------------------ tidyverse_conflicts() --\n",
      "x dplyr::between()    masks data.table::between()\n",
      "x stringr::boundary() masks strucchange::boundary()\n",
      "x dplyr::filter()     masks stats::filter()\n",
      "x dplyr::first()      masks data.table::first()\n",
      "x dplyr::lag()        masks stats::lag()\n",
      "x dplyr::last()       masks data.table::last()\n",
      "x purrr::transpose()  masks data.table::transpose()\n",
      "Welcome! Want to learn more? See two factoextra-related books at https://goo.gl/ve3WBa\n",
      "Loading required package: lattice\n",
      "\n",
      "Attaching package: 'mice'\n",
      "\n",
      "The following object is masked from 'package:tidyr':\n",
      "\n",
      "    complete\n",
      "\n",
      "The following objects are masked from 'package:base':\n",
      "\n",
      "    cbind, rbind\n",
      "\n"
     ]
    }
   ],
   "source": [
    "library(cluster)\n",
    "library(dummies)\n",
    "library(data.table)\n",
    "library(party)\n",
    "library(e1071)\n",
    "library(dbscan)\n",
    "library(tidyverse)  # data manipulation\n",
    "library(cluster)    # clustering algorithms\n",
    "library(factoextra) # clustering algorithms & visualization\n",
    "library(mice)\n",
    "library(purrr)"
   ]
  },
  {
   "cell_type": "code",
   "execution_count": 72,
   "metadata": {},
   "outputs": [
    {
     "data": {
      "text/html": [
       "<table>\n",
       "<thead><tr><th scope=col>X</th><th scope=col>b</th><th scope=col>b.1</th><th scope=col>b.2</th><th scope=col>b.3</th><th scope=col>b.4</th><th scope=col>b.5</th><th scope=col>b.6</th><th scope=col>b.7</th><th scope=col>b.8</th><th scope=col>...</th><th scope=col>b.25</th><th scope=col>b.26</th><th scope=col>b.27</th><th scope=col>b.28</th><th scope=col>b.29</th><th scope=col>b.30</th><th scope=col>b.31</th><th scope=col>b.32</th><th scope=col>b.33</th><th scope=col>win</th></tr></thead>\n",
       "<tbody>\n",
       "\t<tr><td>1  </td><td>1  </td><td>1  </td><td>1  </td><td>1  </td><td>1  </td><td>1  </td><td>1  </td><td>1  </td><td>1  </td><td>...</td><td>1  </td><td>1  </td><td>1  </td><td>1  </td><td>1  </td><td>1  </td><td>1  </td><td>1  </td><td>1  </td><td>1  </td></tr>\n",
       "\t<tr><td>2  </td><td>1  </td><td>1  </td><td>1  </td><td>1  </td><td>1  </td><td>1  </td><td>2  </td><td>1  </td><td>1  </td><td>...</td><td>1  </td><td>1  </td><td>1  </td><td>1  </td><td>1  </td><td>1  </td><td>1  </td><td>1  </td><td>1  </td><td>1  </td></tr>\n",
       "\t<tr><td>3  </td><td>1  </td><td>1  </td><td>1  </td><td>1  </td><td>1  </td><td>1  </td><td>1  </td><td>1  </td><td>1  </td><td>...</td><td>1  </td><td>1  </td><td>1  </td><td>1  </td><td>1  </td><td>1  </td><td>1  </td><td>1  </td><td>1  </td><td>1  </td></tr>\n",
       "\t<tr><td>4  </td><td>2  </td><td>1  </td><td>1  </td><td>1  </td><td>1  </td><td>1  </td><td>1  </td><td>1  </td><td>1  </td><td>...</td><td>1  </td><td>1  </td><td>1  </td><td>1  </td><td>1  </td><td>1  </td><td>1  </td><td>1  </td><td>1  </td><td>1  </td></tr>\n",
       "\t<tr><td>5  </td><td>1  </td><td>1  </td><td>1  </td><td>1  </td><td>1  </td><td>1  </td><td>1  </td><td>1  </td><td>1  </td><td>...</td><td>1  </td><td>1  </td><td>1  </td><td>2  </td><td>1  </td><td>1  </td><td>1  </td><td>1  </td><td>1  </td><td>1  </td></tr>\n",
       "\t<tr><td>6  </td><td>1  </td><td>1  </td><td>1  </td><td>1  </td><td>1  </td><td>1  </td><td>3  </td><td>1  </td><td>1  </td><td>...</td><td>1  </td><td>1  </td><td>1  </td><td>1  </td><td>1  </td><td>1  </td><td>1  </td><td>1  </td><td>1  </td><td>0  </td></tr>\n",
       "</tbody>\n",
       "</table>\n"
      ],
      "text/latex": [
       "\\begin{tabular}{r|llllllllllllllllllllllllllllllllllllllllllll}\n",
       " X & b & b.1 & b.2 & b.3 & b.4 & b.5 & b.6 & b.7 & b.8 & ... & b.25 & b.26 & b.27 & b.28 & b.29 & b.30 & b.31 & b.32 & b.33 & win\\\\\n",
       "\\hline\n",
       "\t 1   & 1   & 1   & 1   & 1   & 1   & 1   & 1   & 1   & 1   & ... & 1   & 1   & 1   & 1   & 1   & 1   & 1   & 1   & 1   & 1  \\\\\n",
       "\t 2   & 1   & 1   & 1   & 1   & 1   & 1   & 2   & 1   & 1   & ... & 1   & 1   & 1   & 1   & 1   & 1   & 1   & 1   & 1   & 1  \\\\\n",
       "\t 3   & 1   & 1   & 1   & 1   & 1   & 1   & 1   & 1   & 1   & ... & 1   & 1   & 1   & 1   & 1   & 1   & 1   & 1   & 1   & 1  \\\\\n",
       "\t 4   & 2   & 1   & 1   & 1   & 1   & 1   & 1   & 1   & 1   & ... & 1   & 1   & 1   & 1   & 1   & 1   & 1   & 1   & 1   & 1  \\\\\n",
       "\t 5   & 1   & 1   & 1   & 1   & 1   & 1   & 1   & 1   & 1   & ... & 1   & 1   & 1   & 2   & 1   & 1   & 1   & 1   & 1   & 1  \\\\\n",
       "\t 6   & 1   & 1   & 1   & 1   & 1   & 1   & 3   & 1   & 1   & ... & 1   & 1   & 1   & 1   & 1   & 1   & 1   & 1   & 1   & 0  \\\\\n",
       "\\end{tabular}\n"
      ],
      "text/markdown": [
       "\n",
       "X | b | b.1 | b.2 | b.3 | b.4 | b.5 | b.6 | b.7 | b.8 | ... | b.25 | b.26 | b.27 | b.28 | b.29 | b.30 | b.31 | b.32 | b.33 | win | \n",
       "|---|---|---|---|---|---|\n",
       "| 1   | 1   | 1   | 1   | 1   | 1   | 1   | 1   | 1   | 1   | ... | 1   | 1   | 1   | 1   | 1   | 1   | 1   | 1   | 1   | 1   | \n",
       "| 2   | 1   | 1   | 1   | 1   | 1   | 1   | 2   | 1   | 1   | ... | 1   | 1   | 1   | 1   | 1   | 1   | 1   | 1   | 1   | 1   | \n",
       "| 3   | 1   | 1   | 1   | 1   | 1   | 1   | 1   | 1   | 1   | ... | 1   | 1   | 1   | 1   | 1   | 1   | 1   | 1   | 1   | 1   | \n",
       "| 4   | 2   | 1   | 1   | 1   | 1   | 1   | 1   | 1   | 1   | ... | 1   | 1   | 1   | 1   | 1   | 1   | 1   | 1   | 1   | 1   | \n",
       "| 5   | 1   | 1   | 1   | 1   | 1   | 1   | 1   | 1   | 1   | ... | 1   | 1   | 1   | 2   | 1   | 1   | 1   | 1   | 1   | 1   | \n",
       "| 6   | 1   | 1   | 1   | 1   | 1   | 1   | 3   | 1   | 1   | ... | 1   | 1   | 1   | 1   | 1   | 1   | 1   | 1   | 1   | 0   | \n",
       "\n",
       "\n"
      ],
      "text/plain": [
       "  X b b.1 b.2 b.3 b.4 b.5 b.6 b.7 b.8 ... b.25 b.26 b.27 b.28 b.29 b.30 b.31\n",
       "1 1 1 1   1   1   1   1   1   1   1   ... 1    1    1    1    1    1    1   \n",
       "2 2 1 1   1   1   1   1   2   1   1   ... 1    1    1    1    1    1    1   \n",
       "3 3 1 1   1   1   1   1   1   1   1   ... 1    1    1    1    1    1    1   \n",
       "4 4 2 1   1   1   1   1   1   1   1   ... 1    1    1    1    1    1    1   \n",
       "5 5 1 1   1   1   1   1   1   1   1   ... 1    1    1    2    1    1    1   \n",
       "6 6 1 1   1   1   1   1   3   1   1   ... 1    1    1    1    1    1    1   \n",
       "  b.32 b.33 win\n",
       "1 1    1    1  \n",
       "2 1    1    1  \n",
       "3 1    1    1  \n",
       "4 1    1    1  \n",
       "5 1    1    1  \n",
       "6 1    1    0  "
      ]
     },
     "metadata": {},
     "output_type": "display_data"
    },
    {
     "data": {
      "text/plain": [
       "       X         b         b.1       b.2       b.3       b.4       b.5      \n",
       " Min.   :    1   b:24981   b:43384   b:55332   b:61615   b:65264   b:67039  \n",
       " 1st Qu.:16890   o:20324   o:12024   o: 6275   o: 3090   o: 1155   o:  364  \n",
       " Median :33779   x:22251   x:12148   x: 5949   x: 2851   x: 1137   x:  153  \n",
       " Mean   :33779                                                              \n",
       " 3rd Qu.:50667                                                              \n",
       " Max.   :67556                                                              \n",
       " b.6       b.7       b.8       b.9       b.10      b.11      x        \n",
       " b:21771   b:41179   b:54351   b:61205   b:65203   b:67041   b:16303  \n",
       " o:19896   o:13264   o: 6847   o: 3309   o: 1214   o:  362   o:19221  \n",
       " x:25889   x:13113   x: 6358   x: 3042   x: 1139   x:  153   x:32032  \n",
       "                                                                      \n",
       "                                                                      \n",
       "                                                                      \n",
       " o         b.12      b.13      b.14      b.15      x.1       o.1      \n",
       " b:37671   b:52897   b:60722   b:65142   b:67043   b:29016   b:46933  \n",
       " o:15425   o: 7719   o: 3572   o: 1275   o:  360   o:18996   o:10286  \n",
       " x:14460   x: 6940   x: 3262   x: 1139   x:  153   x:19544   x:10337  \n",
       "                                                                      \n",
       "                                                                      \n",
       "                                                                      \n",
       " x.2       o.2       x.3       o.3       b.16      b.17      b.18     \n",
       " b:57856   b:63096   b:66041   b:67245   b:40846   b:55526   b:62351  \n",
       " o: 4932   o: 2350   o:  811   o:  221   o:19074   o: 5541   o: 2416  \n",
       " x: 4768   x: 2110   x:  704   x:   90   x: 7636   x: 6489   x: 2789  \n",
       "                                                                      \n",
       "                                                                      \n",
       "                                                                      \n",
       " b.19      b.20      b.21      b.22      b.23      b.24      b.25     \n",
       " b:65449   b:66927   b:67472   b:34166   b:51168   b:60373   b:64838  \n",
       " o: 1151   o:  359   o:   66   o:18881   o: 8177   o: 3581   o: 1490  \n",
       " x:  956   x:  270   x:   18   x:14509   x: 8211   x: 3602   x: 1228  \n",
       "                                                                      \n",
       "                                                                      \n",
       "                                                                      \n",
       " b.26      b.27      b.28      b.29      b.30      b.31      b.32     \n",
       " b:66818   b:67468   b:29728   b:48103   b:58868   b:64300   b:66709  \n",
       " o:  447   o:   70   o:18945   o: 9896   o: 4446   o: 1785   o:  533  \n",
       " x:  291   x:   18   x:18883   x: 9557   x: 4242   x: 1471   x:  314  \n",
       "                                                                      \n",
       "                                                                      \n",
       "                                                                      \n",
       " b.33           win        \n",
       " b:67464   Min.   :0.0000  \n",
       " o:   74   1st Qu.:0.0000  \n",
       " x:   18   Median :1.0000  \n",
       "           Mean   :0.6583  \n",
       "           3rd Qu.:1.0000  \n",
       "           Max.   :1.0000  "
      ]
     },
     "metadata": {},
     "output_type": "display_data"
    },
    {
     "name": "stdout",
     "output_type": "stream",
     "text": [
      "'data.frame':\t67556 obs. of  44 variables:\n",
      " $ X   : int  1 2 3 4 5 6 7 8 9 10 ...\n",
      " $ b   : Factor w/ 3 levels \"b\",\"o\",\"x\": 1 1 1 2 1 1 1 1 1 2 ...\n",
      " $ b.1 : Factor w/ 3 levels \"b\",\"o\",\"x\": 1 1 1 1 1 1 1 1 1 1 ...\n",
      " $ b.2 : Factor w/ 3 levels \"b\",\"o\",\"x\": 1 1 1 1 1 1 1 1 1 1 ...\n",
      " $ b.3 : Factor w/ 3 levels \"b\",\"o\",\"x\": 1 1 1 1 1 1 1 1 1 1 ...\n",
      " $ b.4 : Factor w/ 3 levels \"b\",\"o\",\"x\": 1 1 1 1 1 1 1 1 1 1 ...\n",
      " $ b.5 : Factor w/ 3 levels \"b\",\"o\",\"x\": 1 1 1 1 1 1 1 1 1 1 ...\n",
      " $ b.6 : Factor w/ 3 levels \"b\",\"o\",\"x\": 1 2 1 1 1 3 3 3 3 3 ...\n",
      " $ b.7 : Factor w/ 3 levels \"b\",\"o\",\"x\": 1 1 1 1 1 1 1 2 1 1 ...\n",
      " $ b.8 : Factor w/ 3 levels \"b\",\"o\",\"x\": 1 1 1 1 1 1 1 1 1 1 ...\n",
      " $ b.9 : Factor w/ 3 levels \"b\",\"o\",\"x\": 1 1 1 1 1 1 1 1 1 1 ...\n",
      " $ b.10: Factor w/ 3 levels \"b\",\"o\",\"x\": 1 1 1 1 1 1 1 1 1 1 ...\n",
      " $ b.11: Factor w/ 3 levels \"b\",\"o\",\"x\": 1 1 1 1 1 1 1 1 1 1 ...\n",
      " $ x   : Factor w/ 3 levels \"b\",\"o\",\"x\": 3 3 3 3 3 2 1 1 1 1 ...\n",
      " $ o   : Factor w/ 3 levels \"b\",\"o\",\"x\": 1 1 1 1 1 1 1 1 1 1 ...\n",
      " $ b.12: Factor w/ 3 levels \"b\",\"o\",\"x\": 1 1 1 1 1 1 1 1 1 1 ...\n",
      " $ b.13: Factor w/ 3 levels \"b\",\"o\",\"x\": 1 1 1 1 1 1 1 1 1 1 ...\n",
      " $ b.14: Factor w/ 3 levels \"b\",\"o\",\"x\": 1 1 1 1 1 1 1 1 1 1 ...\n",
      " $ b.15: Factor w/ 3 levels \"b\",\"o\",\"x\": 1 1 1 1 1 1 1 1 1 1 ...\n",
      " $ x.1 : Factor w/ 3 levels \"b\",\"o\",\"x\": 3 3 3 3 3 3 3 3 3 3 ...\n",
      " $ o.1 : Factor w/ 3 levels \"b\",\"o\",\"x\": 2 2 2 2 2 2 2 2 2 2 ...\n",
      " $ x.2 : Factor w/ 3 levels \"b\",\"o\",\"x\": 3 3 3 3 3 3 3 3 3 3 ...\n",
      " $ o.2 : Factor w/ 3 levels \"b\",\"o\",\"x\": 2 2 2 2 2 2 2 2 2 2 ...\n",
      " $ x.3 : Factor w/ 3 levels \"b\",\"o\",\"x\": 3 3 3 3 3 3 3 3 3 3 ...\n",
      " $ o.3 : Factor w/ 3 levels \"b\",\"o\",\"x\": 2 2 2 2 2 2 2 2 2 2 ...\n",
      " $ b.16: Factor w/ 3 levels \"b\",\"o\",\"x\": 2 1 1 1 1 1 2 1 1 1 ...\n",
      " $ b.17: Factor w/ 3 levels \"b\",\"o\",\"x\": 1 1 1 1 1 1 1 1 1 1 ...\n",
      " $ b.18: Factor w/ 3 levels \"b\",\"o\",\"x\": 1 1 1 1 1 1 1 1 1 1 ...\n",
      " $ b.19: Factor w/ 3 levels \"b\",\"o\",\"x\": 1 1 1 1 1 1 1 1 1 1 ...\n",
      " $ b.20: Factor w/ 3 levels \"b\",\"o\",\"x\": 1 1 1 1 1 1 1 1 1 1 ...\n",
      " $ b.21: Factor w/ 3 levels \"b\",\"o\",\"x\": 1 1 1 1 1 1 1 1 1 1 ...\n",
      " $ b.22: Factor w/ 3 levels \"b\",\"o\",\"x\": 1 1 2 1 1 1 1 1 2 1 ...\n",
      " $ b.23: Factor w/ 3 levels \"b\",\"o\",\"x\": 1 1 1 1 1 1 1 1 1 1 ...\n",
      " $ b.24: Factor w/ 3 levels \"b\",\"o\",\"x\": 1 1 1 1 1 1 1 1 1 1 ...\n",
      " $ b.25: Factor w/ 3 levels \"b\",\"o\",\"x\": 1 1 1 1 1 1 1 1 1 1 ...\n",
      " $ b.26: Factor w/ 3 levels \"b\",\"o\",\"x\": 1 1 1 1 1 1 1 1 1 1 ...\n",
      " $ b.27: Factor w/ 3 levels \"b\",\"o\",\"x\": 1 1 1 1 1 1 1 1 1 1 ...\n",
      " $ b.28: Factor w/ 3 levels \"b\",\"o\",\"x\": 1 1 1 1 2 1 1 1 1 1 ...\n",
      " $ b.29: Factor w/ 3 levels \"b\",\"o\",\"x\": 1 1 1 1 1 1 1 1 1 1 ...\n",
      " $ b.30: Factor w/ 3 levels \"b\",\"o\",\"x\": 1 1 1 1 1 1 1 1 1 1 ...\n",
      " $ b.31: Factor w/ 3 levels \"b\",\"o\",\"x\": 1 1 1 1 1 1 1 1 1 1 ...\n",
      " $ b.32: Factor w/ 3 levels \"b\",\"o\",\"x\": 1 1 1 1 1 1 1 1 1 1 ...\n",
      " $ b.33: Factor w/ 3 levels \"b\",\"o\",\"x\": 1 1 1 1 1 1 1 1 1 1 ...\n",
      " $ win : int  1 1 1 1 1 0 1 1 1 1 ...\n"
     ]
    }
   ],
   "source": [
    "data <- read.csv(file=\"connect-4.csv\",header=TRUE)\n",
    "dataNumeric = lapply(data, as.numeric)\n",
    "dataNumeric = as.data.frame(dataNumeric)\n",
    "head(dataNumeric)\n",
    "summary(data)\n",
    "str(data)"
   ]
  },
  {
   "cell_type": "code",
   "execution_count": 73,
   "metadata": {},
   "outputs": [],
   "source": [
    "data.pca <- prcomp(dataNumeric, center=TRUE, scale. = TRUE)"
   ]
  },
  {
   "cell_type": "code",
   "execution_count": 76,
   "metadata": {},
   "outputs": [
    {
     "name": "stdout",
     "output_type": "stream",
     "text": [
      "List of 5\n",
      " $ sdev    : num [1:44] 1.86 1.78 1.76 1.66 1.65 ...\n",
      " $ rotation: num [1:44, 1:44] 0.387 0.166 0.185 0.195 0.192 ...\n",
      "  ..- attr(*, \"dimnames\")=List of 2\n",
      "  .. ..$ : chr [1:44] \"X\" \"b\" \"b.1\" \"b.2\" ...\n",
      "  .. ..$ : chr [1:44] \"PC1\" \"PC2\" \"PC3\" \"PC4\" ...\n",
      " $ center  : Named num [1:44] 33778.5 1.96 1.54 1.27 1.13 ...\n",
      "  ..- attr(*, \"names\")= chr [1:44] \"X\" \"b\" \"b.1\" \"b.2\" ...\n",
      " $ scale   : Named num [1:44] 1.95e+04 8.35e-01 7.80e-01 6.11e-01 4.45e-01 ...\n",
      "  ..- attr(*, \"names\")= chr [1:44] \"X\" \"b\" \"b.1\" \"b.2\" ...\n",
      " $ x       : num [1:67556, 1:44] -6.21 -5.89 -6.12 -5.91 -6.03 ...\n",
      "  ..- attr(*, \"dimnames\")=List of 2\n",
      "  .. ..$ : NULL\n",
      "  .. ..$ : chr [1:44] \"PC1\" \"PC2\" \"PC3\" \"PC4\" ...\n",
      " - attr(*, \"class\")= chr \"prcomp\"\n"
     ]
    }
   ],
   "source": [
    "str(data.pca)"
   ]
  },
  {
   "cell_type": "code",
   "execution_count": 77,
   "metadata": {},
   "outputs": [
    {
     "data": {
      "text/html": [
       "<ol class=list-inline>\n",
       "\t<li>4.58662839183115</li>\n",
       "\t<li>4.3909762663852</li>\n",
       "\t<li>4.34665341132815</li>\n",
       "\t<li>4.09136496316771</li>\n",
       "\t<li>4.07475840813371</li>\n",
       "\t<li>3.92037368482673</li>\n",
       "\t<li>3.19900615217112</li>\n",
       "\t<li>2.91232066500393</li>\n",
       "\t<li>2.83116884750798</li>\n",
       "\t<li>2.80846983987794</li>\n",
       "\t<li>2.74201650940214</li>\n",
       "\t<li>2.71080194421189</li>\n",
       "\t<li>2.59863853680738</li>\n",
       "\t<li>2.47823533400326</li>\n",
       "\t<li>2.39759192417787</li>\n",
       "\t<li>2.32893979479268</li>\n",
       "\t<li>2.28296541692418</li>\n",
       "\t<li>2.27549547893907</li>\n",
       "\t<li>2.2374945185632</li>\n",
       "\t<li>2.18216446968447</li>\n",
       "\t<li>2.08542515360924</li>\n",
       "\t<li>1.93346277022809</li>\n",
       "\t<li>1.92661504315796</li>\n",
       "\t<li>1.91900287456068</li>\n",
       "\t<li>1.89705583915844</li>\n",
       "\t<li>1.86568550138913</li>\n",
       "\t<li>1.85808680414654</li>\n",
       "\t<li>1.78968369117106</li>\n",
       "\t<li>1.75105691493098</li>\n",
       "\t<li>1.71730581655953</li>\n",
       "\t<li>1.71078101934669</li>\n",
       "\t<li>1.7009180750082</li>\n",
       "\t<li>1.68740471709197</li>\n",
       "\t<li>1.66106712072424</li>\n",
       "\t<li>1.63732386439102</li>\n",
       "\t<li>1.57409346476251</li>\n",
       "\t<li>1.54991100178164</li>\n",
       "\t<li>1.54613889454338</li>\n",
       "\t<li>1.51660800460726</li>\n",
       "\t<li>1.50881021132342</li>\n",
       "\t<li>1.50301841989681</li>\n",
       "\t<li>1.49436691951985</li>\n",
       "\t<li>0.770113320351577</li>\n",
       "\t<li>2.03687217840416e-15</li>\n",
       "</ol>\n"
      ],
      "text/latex": [
       "\\begin{enumerate*}\n",
       "\\item 4.58662839183115\n",
       "\\item 4.3909762663852\n",
       "\\item 4.34665341132815\n",
       "\\item 4.09136496316771\n",
       "\\item 4.07475840813371\n",
       "\\item 3.92037368482673\n",
       "\\item 3.19900615217112\n",
       "\\item 2.91232066500393\n",
       "\\item 2.83116884750798\n",
       "\\item 2.80846983987794\n",
       "\\item 2.74201650940214\n",
       "\\item 2.71080194421189\n",
       "\\item 2.59863853680738\n",
       "\\item 2.47823533400326\n",
       "\\item 2.39759192417787\n",
       "\\item 2.32893979479268\n",
       "\\item 2.28296541692418\n",
       "\\item 2.27549547893907\n",
       "\\item 2.2374945185632\n",
       "\\item 2.18216446968447\n",
       "\\item 2.08542515360924\n",
       "\\item 1.93346277022809\n",
       "\\item 1.92661504315796\n",
       "\\item 1.91900287456068\n",
       "\\item 1.89705583915844\n",
       "\\item 1.86568550138913\n",
       "\\item 1.85808680414654\n",
       "\\item 1.78968369117106\n",
       "\\item 1.75105691493098\n",
       "\\item 1.71730581655953\n",
       "\\item 1.71078101934669\n",
       "\\item 1.7009180750082\n",
       "\\item 1.68740471709197\n",
       "\\item 1.66106712072424\n",
       "\\item 1.63732386439102\n",
       "\\item 1.57409346476251\n",
       "\\item 1.54991100178164\n",
       "\\item 1.54613889454338\n",
       "\\item 1.51660800460726\n",
       "\\item 1.50881021132342\n",
       "\\item 1.50301841989681\n",
       "\\item 1.49436691951985\n",
       "\\item 0.770113320351577\n",
       "\\item 2.03687217840416e-15\n",
       "\\end{enumerate*}\n"
      ],
      "text/markdown": [
       "1. 4.58662839183115\n",
       "2. 4.3909762663852\n",
       "3. 4.34665341132815\n",
       "4. 4.09136496316771\n",
       "5. 4.07475840813371\n",
       "6. 3.92037368482673\n",
       "7. 3.19900615217112\n",
       "8. 2.91232066500393\n",
       "9. 2.83116884750798\n",
       "10. 2.80846983987794\n",
       "11. 2.74201650940214\n",
       "12. 2.71080194421189\n",
       "13. 2.59863853680738\n",
       "14. 2.47823533400326\n",
       "15. 2.39759192417787\n",
       "16. 2.32893979479268\n",
       "17. 2.28296541692418\n",
       "18. 2.27549547893907\n",
       "19. 2.2374945185632\n",
       "20. 2.18216446968447\n",
       "21. 2.08542515360924\n",
       "22. 1.93346277022809\n",
       "23. 1.92661504315796\n",
       "24. 1.91900287456068\n",
       "25. 1.89705583915844\n",
       "26. 1.86568550138913\n",
       "27. 1.85808680414654\n",
       "28. 1.78968369117106\n",
       "29. 1.75105691493098\n",
       "30. 1.71730581655953\n",
       "31. 1.71078101934669\n",
       "32. 1.7009180750082\n",
       "33. 1.68740471709197\n",
       "34. 1.66106712072424\n",
       "35. 1.63732386439102\n",
       "36. 1.57409346476251\n",
       "37. 1.54991100178164\n",
       "38. 1.54613889454338\n",
       "39. 1.51660800460726\n",
       "40. 1.50881021132342\n",
       "41. 1.50301841989681\n",
       "42. 1.49436691951985\n",
       "43. 0.770113320351577\n",
       "44. 2.03687217840416e-15\n",
       "\n",
       "\n"
      ],
      "text/plain": [
       " [1] 4.586628e+00 4.390976e+00 4.346653e+00 4.091365e+00 4.074758e+00\n",
       " [6] 3.920374e+00 3.199006e+00 2.912321e+00 2.831169e+00 2.808470e+00\n",
       "[11] 2.742017e+00 2.710802e+00 2.598639e+00 2.478235e+00 2.397592e+00\n",
       "[16] 2.328940e+00 2.282965e+00 2.275495e+00 2.237495e+00 2.182164e+00\n",
       "[21] 2.085425e+00 1.933463e+00 1.926615e+00 1.919003e+00 1.897056e+00\n",
       "[26] 1.865686e+00 1.858087e+00 1.789684e+00 1.751057e+00 1.717306e+00\n",
       "[31] 1.710781e+00 1.700918e+00 1.687405e+00 1.661067e+00 1.637324e+00\n",
       "[36] 1.574093e+00 1.549911e+00 1.546139e+00 1.516608e+00 1.508810e+00\n",
       "[41] 1.503018e+00 1.494367e+00 7.701133e-01 2.036872e-15"
      ]
     },
     "metadata": {},
     "output_type": "display_data"
    }
   ],
   "source": [
    "(data.pca$sdev / sum(data.pca$sdev))*100"
   ]
  },
  {
   "cell_type": "code",
   "execution_count": 80,
   "metadata": {},
   "outputs": [
    {
     "data": {
      "text/html": [
       "0"
      ],
      "text/latex": [
       "0"
      ],
      "text/markdown": [
       "0"
      ],
      "text/plain": [
       "[1] 0"
      ]
     },
     "metadata": {},
     "output_type": "display_data"
    }
   ],
   "source": [
    "temp <- map_df(data, function(x) sum(is.infinite(x)))\n",
    "sum(temp[1,])"
   ]
  },
  {
   "cell_type": "code",
   "execution_count": 81,
   "metadata": {},
   "outputs": [
    {
     "name": "stderr",
     "output_type": "stream",
     "text": [
      "Warning message:\n",
      "\"Quick-TRANSfer stage steps exceeded maximum (= 3377800)\"Warning message:\n",
      "\"Quick-TRANSfer stage steps exceeded maximum (= 3377800)\"Warning message:\n",
      "\"Quick-TRANSfer stage steps exceeded maximum (= 3377800)\"Warning message:\n",
      "\"Quick-TRANSfer stage steps exceeded maximum (= 3377800)\"Warning message:\n",
      "\"Quick-TRANSfer stage steps exceeded maximum (= 3377800)\"Warning message:\n",
      "\"Quick-TRANSfer stage steps exceeded maximum (= 3377800)\"Warning message:\n",
      "\"Quick-TRANSfer stage steps exceeded maximum (= 3377800)\"Warning message:\n",
      "\"Quick-TRANSfer stage steps exceeded maximum (= 3377800)\"Warning message:\n",
      "\"Quick-TRANSfer stage steps exceeded maximum (= 3377800)\"Warning message:\n",
      "\"Quick-TRANSfer stage steps exceeded maximum (= 3377800)\"Warning message:\n",
      "\"Quick-TRANSfer stage steps exceeded maximum (= 3377800)\"Warning message:\n",
      "\"Quick-TRANSfer stage steps exceeded maximum (= 3377800)\"Warning message:\n",
      "\"Quick-TRANSfer stage steps exceeded maximum (= 3377800)\"Warning message:\n",
      "\"Quick-TRANSfer stage steps exceeded maximum (= 3377800)\"Warning message:\n",
      "\"Quick-TRANSfer stage steps exceeded maximum (= 3377800)\"Warning message:\n",
      "\"Quick-TRANSfer stage steps exceeded maximum (= 3377800)\"Warning message:\n",
      "\"Quick-TRANSfer stage steps exceeded maximum (= 3377800)\"Warning message:\n",
      "\"Quick-TRANSfer stage steps exceeded maximum (= 3377800)\"Warning message:\n",
      "\"Quick-TRANSfer stage steps exceeded maximum (= 3377800)\"Warning message:\n",
      "\"Quick-TRANSfer stage steps exceeded maximum (= 3377800)\"Warning message:\n",
      "\"Quick-TRANSfer stage steps exceeded maximum (= 3377800)\"Warning message:\n",
      "\"Quick-TRANSfer stage steps exceeded maximum (= 3377800)\"Warning message:\n",
      "\"Quick-TRANSfer stage steps exceeded maximum (= 3377800)\"Warning message:\n",
      "\"Quick-TRANSfer stage steps exceeded maximum (= 3377800)\"Warning message:\n",
      "\"Quick-TRANSfer stage steps exceeded maximum (= 3377800)\"Warning message:\n",
      "\"Quick-TRANSfer stage steps exceeded maximum (= 3377800)\"Warning message:\n",
      "\"Quick-TRANSfer stage steps exceeded maximum (= 3377800)\"Warning message:\n",
      "\"Quick-TRANSfer stage steps exceeded maximum (= 3377800)\"Warning message:\n",
      "\"Quick-TRANSfer stage steps exceeded maximum (= 3377800)\"Warning message:\n",
      "\"Quick-TRANSfer stage steps exceeded maximum (= 3377800)\"Warning message:\n",
      "\"Quick-TRANSfer stage steps exceeded maximum (= 3377800)\"Warning message:\n",
      "\"Quick-TRANSfer stage steps exceeded maximum (= 3377800)\"Warning message:\n",
      "\"Quick-TRANSfer stage steps exceeded maximum (= 3377800)\"Warning message:\n",
      "\"Quick-TRANSfer stage steps exceeded maximum (= 3377800)\"Warning message:\n",
      "\"Quick-TRANSfer stage steps exceeded maximum (= 3377800)\"Warning message:\n",
      "\"Quick-TRANSfer stage steps exceeded maximum (= 3377800)\"Warning message:\n",
      "\"Quick-TRANSfer stage steps exceeded maximum (= 3377800)\"Warning message:\n",
      "\"Quick-TRANSfer stage steps exceeded maximum (= 3377800)\"Warning message:\n",
      "\"Quick-TRANSfer stage steps exceeded maximum (= 3377800)\"Warning message:\n",
      "\"Quick-TRANSfer stage steps exceeded maximum (= 3377800)\"Warning message:\n",
      "\"Quick-TRANSfer stage steps exceeded maximum (= 3377800)\"Warning message:\n",
      "\"Quick-TRANSfer stage steps exceeded maximum (= 3377800)\"Warning message:\n",
      "\"Quick-TRANSfer stage steps exceeded maximum (= 3377800)\"Warning message:\n",
      "\"Quick-TRANSfer stage steps exceeded maximum (= 3377800)\"Warning message:\n",
      "\"Quick-TRANSfer stage steps exceeded maximum (= 3377800)\"Warning message:\n",
      "\"Quick-TRANSfer stage steps exceeded maximum (= 3377800)\"Warning message:\n",
      "\"Quick-TRANSfer stage steps exceeded maximum (= 3377800)\"Warning message:\n",
      "\"Quick-TRANSfer stage steps exceeded maximum (= 3377800)\"Warning message:\n",
      "\"Quick-TRANSfer stage steps exceeded maximum (= 3377800)\"Warning message:\n",
      "\"Quick-TRANSfer stage steps exceeded maximum (= 3377800)\"Warning message:\n",
      "\"Quick-TRANSfer stage steps exceeded maximum (= 3377800)\"Warning message:\n",
      "\"Quick-TRANSfer stage steps exceeded maximum (= 3377800)\"Warning message:\n",
      "\"Quick-TRANSfer stage steps exceeded maximum (= 3377800)\"Warning message:\n",
      "\"Quick-TRANSfer stage steps exceeded maximum (= 3377800)\"Warning message:\n",
      "\"Quick-TRANSfer stage steps exceeded maximum (= 3377800)\"Warning message:\n",
      "\"Quick-TRANSfer stage steps exceeded maximum (= 3377800)\"Warning message:\n",
      "\"Quick-TRANSfer stage steps exceeded maximum (= 3377800)\"Warning message:\n",
      "\"Quick-TRANSfer stage steps exceeded maximum (= 3377800)\"Warning message:\n",
      "\"Quick-TRANSfer stage steps exceeded maximum (= 3377800)\"Warning message:\n",
      "\"Quick-TRANSfer stage steps exceeded maximum (= 3377800)\"Warning message:\n",
      "\"Quick-TRANSfer stage steps exceeded maximum (= 3377800)\"Warning message:\n",
      "\"Quick-TRANSfer stage steps exceeded maximum (= 3377800)\"Warning message:\n",
      "\"Quick-TRANSfer stage steps exceeded maximum (= 3377800)\"Warning message:\n",
      "\"Quick-TRANSfer stage steps exceeded maximum (= 3377800)\"Warning message:\n",
      "\"Quick-TRANSfer stage steps exceeded maximum (= 3377800)\"Warning message:\n",
      "\"Quick-TRANSfer stage steps exceeded maximum (= 3377800)\"Warning message:\n",
      "\"Quick-TRANSfer stage steps exceeded maximum (= 3377800)\"Warning message:\n",
      "\"Quick-TRANSfer stage steps exceeded maximum (= 3377800)\"Warning message:\n",
      "\"Quick-TRANSfer stage steps exceeded maximum (= 3377800)\"Warning message:\n",
      "\"Quick-TRANSfer stage steps exceeded maximum (= 3377800)\""
     ]
    },
    {
     "name": "stdout",
     "output_type": "stream",
     "text": [
      "[1] 6.423187e+12 2.854750e+12 1.605797e+12 1.027711e+12 7.136882e+11\n",
      "[6] 5.243425e+11 4.014499e+11 3.171951e+11 2.569282e+11\n"
     ]
    },
    {
     "data": {
      "image/png": "[encoded data removed]",
      "text/plain": [
       "plot without title"
      ]
     },
     "metadata": {},
     "output_type": "display_data"
    }
   ],
   "source": [
    "#Elbow_plot\n",
    "k <- c(2:10)\n",
    "SSE <- c()\n",
    "for(i in k){\n",
    "    clusters <- kmeans(na.omit(dataNumeric), i, nstart = 20)\n",
    "    SSE <- c(SSE, clusters$tot.withinss)\n",
    "}\n",
    "print(SSE)\n",
    "plot(k,SSE,type = \"b\", pch = 19, frame = FALSE, \n",
    "       xlab = \"Number of clusters K\",\n",
    "       ylab = \"SSEs\")"
   ]
  },
  {
   "cell_type": "code",
   "execution_count": 82,
   "metadata": {},
   "outputs": [
    {
     "ename": "ERROR",
     "evalue": "Error: cannot allocate vector of size 17.0 Gb\n",
     "output_type": "error",
     "traceback": [
      "Error: cannot allocate vector of size 17.0 Gb\nTraceback:\n",
      "1. avg_sil(i)",
      "2. silhouette(km.res$cluster, dist(data))   # at line 3 of file <text>",
      "3. silhouette.default(km.res$cluster, dist(data))",
      "4. as.dist(dist)",
      "5. dist(data)"
     ]
    }
   ],
   "source": [
    "avg_sil <- function(k) {\n",
    "  km.res <- kmeans(dataNumeric, k, nstart = 25)\n",
    "  ss <- silhouette(km.res$cluster, dist(data))\n",
    "  mean(ss[, 3])\n",
    "}\n",
    "\n",
    "# Compute and plot wss for k = 2 to k = 15\n",
    "k.values <- 2:10\n",
    "avg_sil_values <- c()\n",
    "# extract avg silhouette for 2-15 clusters\n",
    "for(i in k.values){\n",
    "    avg_sil_values <- c(avg_sil_values,avg_sil(i))\n",
    "}\n",
    "\n",
    "\n",
    "plot(k.values, avg_sil_values,\n",
    "       type = \"b\", pch = 19, frame = FALSE, \n",
    "       xlab = \"Number of clusters K\",\n",
    "       ylab = \"Average Silhouettes\")"
   ]
  },
  {
   "cell_type": "code",
   "execution_count": 83,
   "metadata": {},
   "outputs": [
    {
     "ename": "ERROR",
     "evalue": "Error: cannot allocate vector of size 17.0 Gb\n",
     "output_type": "error",
     "traceback": [
      "Error: cannot allocate vector of size 17.0 Gb\nTraceback:\n",
      "1. fviz_nbclust(dataNumeric, kmeans, method = \"silhouette\")",
      "2. stats::dist(x)"
     ]
    }
   ],
   "source": [
    "fviz_nbclust(dataNumeric, kmeans, method = \"silhouette\")"
   ]
  },
  {
   "cell_type": "code",
   "execution_count": null,
   "metadata": {
    "collapsed": true
   },
   "outputs": [],
   "source": []
  }
 ],
 "metadata": {
  "kernelspec": {
   "display_name": "R",
   "language": "R",
   "name": "ir"
  },
  "language_info": {
   "codemirror_mode": "r",
   "file_extension": ".r",
   "mimetype": "text/x-r-source",
   "name": "R",
   "pygments_lexer": "r",
   "version": "3.5.1"
  }
 },
 "nbformat": 4,
 "nbformat_minor": 2
}
