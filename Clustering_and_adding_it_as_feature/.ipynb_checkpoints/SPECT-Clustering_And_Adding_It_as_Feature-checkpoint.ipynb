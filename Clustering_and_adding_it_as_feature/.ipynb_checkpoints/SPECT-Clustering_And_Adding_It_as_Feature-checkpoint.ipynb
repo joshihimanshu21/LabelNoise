{
 "cells": [
  {
   "cell_type": "code",
   "execution_count": 7,
   "metadata": {},
   "outputs": [],
   "source": [
    "#import all modules here\n",
    "import pandas as pd\n",
    "import numpy as np\n",
    "import matplotlib.pyplot as plt\n",
    "from sklearn.decomposition import PCA\n",
    "from sklearn.cluster import KMeans\n",
    "from sklearn.preprocessing import StandardScaler\n",
    "import os\n",
    "import numpy as np\n",
    "import pandas as pd\n",
    "import matplotlib.pyplot as plt\n",
    "from sklearn.model_selection import train_test_split\n",
    "import sklearn.linear_model as sk\n",
    "from sklearn.tree import DecisionTreeClassifier\n",
    "from sklearn.linear_model import LogisticRegression\n",
    "from sklearn.ensemble import RandomForestClassifier\n",
    "from sklearn.naive_bayes import GaussianNB\n",
    "from sklearn.model_selection import train_test_split\n",
    "from collections import defaultdict\n",
    "from sklearn.svm import SVC\n",
    "from sklearn.metrics import accuracy_score\n",
    "from random import randint\n",
    "from IPython.display import display\n",
    "from sklearn.cluster import KMeans\n",
    "from sklearn.decomposition import PCA\n",
    "from sklearn import preprocessing\n",
    "import seaborn as sn\n",
    "from sklearn.preprocessing import StandardScaler\n",
    "import warnings\n",
    "warnings.filterwarnings('ignore')"
   ]
  },
  {
   "cell_type": "code",
   "execution_count": 19,
   "metadata": {},
   "outputs": [
    {
     "data": {
      "text/plain": [
       "(80, 23)"
      ]
     },
     "execution_count": 19,
     "metadata": {},
     "output_type": "execute_result"
    }
   ],
   "source": [
    "df = pd.read_csv('../SPECT.train',header=None)\n",
    "features = df.loc[:,df.columns!=0]\n",
    "label = df[0]\n",
    "df.shape"
   ]
  },
  {
   "cell_type": "code",
   "execution_count": 9,
   "metadata": {},
   "outputs": [],
   "source": [
    "#k=14\n",
    "%matplotlib qt  \n",
    "def plot_Elbow(features):\n",
    "    sse = {}\n",
    "    for no_of_cluster in range(2,50):\n",
    "        kmeans = KMeans(n_clusters=no_of_cluster).fit(features)\n",
    "        sse[no_of_cluster] = kmeans.inertia_\n",
    "    plt.figure()\n",
    "    plt.plot(list(sse.keys()), list(sse.values()))\n",
    "    plt.xlabel(\"Number of cluster\")\n",
    "    plt.ylabel(\"SSE\")\n",
    "    plt.show()"
   ]
  },
  {
   "cell_type": "code",
   "execution_count": 10,
   "metadata": {},
   "outputs": [],
   "source": [
    "plot_Elbow(features)"
   ]
  },
  {
   "cell_type": "code",
   "execution_count": 11,
   "metadata": {},
   "outputs": [],
   "source": [
    "#s = Data Path p = Number of Cluster col = Label Column Name\n",
    "def detected_indices_temp(data,p,col,model):\n",
    "    class0 = data.loc[data[col]!=1,:]\n",
    "    class1 = data.loc[data[col]!=0,:]\n",
    "    def noise(data):\n",
    "        sample = data.sample(frac = 0.4)\n",
    "        for i in list(sample.index):\n",
    "            data[col][i] = int(not data[col][i])\n",
    "        return list(sample.index)    \n",
    "    noise0 = noise(class0)\n",
    "    noise1 = noise(class1)\n",
    "    noisy_indices = noise0+noise1\n",
    "    mislabeled = pd.concat([class0,class1])\n",
    "    indices = list(mislabeled.index)\n",
    "\n",
    "    # User Optimal Number of Cluster\n",
    "    km = KMeans(n_clusters = p)\n",
    "    km.fit(mislabeled.loc[:,mislabeled.columns!=col])\n",
    "    label = km.labels_\n",
    "    mislabeled['cluster'] = label\n",
    "\n",
    "    #OneHotEncoding\n",
    "    mislabeled = pd.get_dummies(mislabeled,columns=['cluster'])\n",
    "    #RandomForestClassifier\n",
    "    x_train,x_test,y_train,y_test = train_test_split(mislabeled.loc[:,mislabeled.columns!=col],mislabeled[col],test_size = 0.38)\n",
    "    rf = model()\n",
    "    rf.fit(x_train,y_train)\n",
    "    predict = rf.predict(mislabeled.loc[:,mislabeled.columns!=col])\n",
    "    mislabeled['predicted'] = predict\n",
    "    detected = list()\n",
    "    cnt = 0\n",
    "    bad_change = 0\n",
    "    for i in indices:\n",
    "        if mislabeled[col][i] != mislabeled['predicted'][i]:\n",
    "            detected.append(i)\n",
    "    for i in detected:\n",
    "        if i in noisy_indices:\n",
    "            cnt+=1\n",
    "        else:\n",
    "            bad_change+=1\n",
    "    return pd.DataFrame(data={'Total Noise':[len(noisy_indices)], 'Total Detected labels':[len(detected)], 'True Identified labels':[cnt], 'False identified labels':[bad_change], 'Total Noise Ratio':len(noisy_indices)/data.shape[0], 'True Identified Ratio':cnt/len(noisy_indices)})\n",
    "\n",
    "    print(len(noisy_indices),len(detected),cnt,bad_change)        "
   ]
  },
  {
   "cell_type": "code",
   "execution_count": 12,
   "metadata": {},
   "outputs": [
    {
     "data": {
      "text/html": [
       "<div>\n",
       "<style scoped>\n",
       "    .dataframe tbody tr th:only-of-type {\n",
       "        vertical-align: middle;\n",
       "    }\n",
       "\n",
       "    .dataframe tbody tr th {\n",
       "        vertical-align: top;\n",
       "    }\n",
       "\n",
       "    .dataframe thead th {\n",
       "        text-align: right;\n",
       "    }\n",
       "</style>\n",
       "<table border=\"1\" class=\"dataframe\">\n",
       "  <thead>\n",
       "    <tr style=\"text-align: right;\">\n",
       "      <th></th>\n",
       "      <th>Total Noise</th>\n",
       "      <th>Total Detected labels</th>\n",
       "      <th>True Identified labels</th>\n",
       "      <th>False identified labels</th>\n",
       "      <th>Total Noise Ratio</th>\n",
       "      <th>True Identified Ratio</th>\n",
       "      <th>Model</th>\n",
       "    </tr>\n",
       "  </thead>\n",
       "  <tbody>\n",
       "    <tr>\n",
       "      <th>0</th>\n",
       "      <td>32</td>\n",
       "      <td>41</td>\n",
       "      <td>16</td>\n",
       "      <td>25</td>\n",
       "      <td>0.4</td>\n",
       "      <td>0.50000</td>\n",
       "      <td>SVC</td>\n",
       "    </tr>\n",
       "    <tr>\n",
       "      <th>1</th>\n",
       "      <td>32</td>\n",
       "      <td>21</td>\n",
       "      <td>12</td>\n",
       "      <td>9</td>\n",
       "      <td>0.4</td>\n",
       "      <td>0.37500</td>\n",
       "      <td>Random Forest</td>\n",
       "    </tr>\n",
       "    <tr>\n",
       "      <th>2</th>\n",
       "      <td>32</td>\n",
       "      <td>32</td>\n",
       "      <td>15</td>\n",
       "      <td>17</td>\n",
       "      <td>0.4</td>\n",
       "      <td>0.46875</td>\n",
       "      <td>Naive Bayes</td>\n",
       "    </tr>\n",
       "    <tr>\n",
       "      <th>3</th>\n",
       "      <td>32</td>\n",
       "      <td>31</td>\n",
       "      <td>18</td>\n",
       "      <td>13</td>\n",
       "      <td>0.4</td>\n",
       "      <td>0.56250</td>\n",
       "      <td>Logistic Regression</td>\n",
       "    </tr>\n",
       "    <tr>\n",
       "      <th>4</th>\n",
       "      <td>32</td>\n",
       "      <td>23</td>\n",
       "      <td>10</td>\n",
       "      <td>13</td>\n",
       "      <td>0.4</td>\n",
       "      <td>0.31250</td>\n",
       "      <td>Decision Tree</td>\n",
       "    </tr>\n",
       "  </tbody>\n",
       "</table>\n",
       "</div>"
      ],
      "text/plain": [
       "   Total Noise  Total Detected labels  True Identified labels  \\\n",
       "0           32                     41                      16   \n",
       "1           32                     21                      12   \n",
       "2           32                     32                      15   \n",
       "3           32                     31                      18   \n",
       "4           32                     23                      10   \n",
       "\n",
       "   False identified labels  Total Noise Ratio  True Identified Ratio  \\\n",
       "0                       25                0.4                0.50000   \n",
       "1                        9                0.4                0.37500   \n",
       "2                       17                0.4                0.46875   \n",
       "3                       13                0.4                0.56250   \n",
       "4                       13                0.4                0.31250   \n",
       "\n",
       "                 Model  \n",
       "0                  SVC  \n",
       "1        Random Forest  \n",
       "2          Naive Bayes  \n",
       "3  Logistic Regression  \n",
       "4        Decision Tree  "
      ]
     },
     "execution_count": 12,
     "metadata": {},
     "output_type": "execute_result"
    }
   ],
   "source": [
    "#12 24\n",
    "#15 32\n",
    "models = [SVC,RandomForestClassifier,GaussianNB,LogisticRegression,DecisionTreeClassifier]\n",
    "#result = pd.DataFrame(data={'Total Noise':[], 'Total Detected labels':[], 'True Identified labels':[], 'False identified labels':[], 'Total Noise Ratio':[], 'True Identified Ratio':[]})\n",
    "result = pd.DataFrame()\n",
    "for model in models:\n",
    "    temp = detected_indices_temp(df,14,0,model)\n",
    "    result = result.append(temp, ignore_index=True)\n",
    "result['Model']=pd.Series([\"SVC\",\"Random Forest\",\"Naive Bayes\",\"Logistic Regression\",\"Decision Tree\"])\n",
    "result"
   ]
  },
  {
   "cell_type": "code",
   "execution_count": 18,
   "metadata": {},
   "outputs": [
    {
     "data": {
      "text/plain": [
       "(80, 23)"
      ]
     },
     "execution_count": 18,
     "metadata": {},
     "output_type": "execute_result"
    }
   ],
   "source": [
    "df.shape\n"
   ]
  },
  {
   "cell_type": "code",
   "execution_count": null,
   "metadata": {},
   "outputs": [],
   "source": []
  }
 ],
 "metadata": {
  "kernelspec": {
   "display_name": "Python 3",
   "language": "python",
   "name": "python3"
  },
  "language_info": {
   "codemirror_mode": {
    "name": "ipython",
    "version": 3
   },
   "file_extension": ".py",
   "mimetype": "text/x-python",
   "name": "python",
   "nbconvert_exporter": "python",
   "pygments_lexer": "ipython3",
   "version": "3.6.7"
  }
 },
 "nbformat": 4,
 "nbformat_minor": 2
}
