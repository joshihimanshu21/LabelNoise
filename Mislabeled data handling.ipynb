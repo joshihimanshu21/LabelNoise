{
 "cells": [
  {
   "cell_type": "code",
   "execution_count": null,
   "metadata": {},
   "outputs": [],
   "source": [
    "import os\n",
    "import numpy as np\n",
    "import pandas as pd\n",
    "import matplotlib.pyplot as plt\n",
    "from sklearn.model_selection import train_test_split\n",
    "import sklearn.linear_model as sk\n",
    "from sklearn.tree import DecisionTreeClassifier\n",
    "from sklearn.linear_model import LogisticRegression\n",
    "from sklearn.ensemble import RandomForestClassifier\n",
    "from sklearn.naive_bayes import GaussianNB\n",
    "from sklearn.model_selection import train_test_split\n",
    "from collections import defaultdict\n",
    "from sklearn.svm import SVC\n",
    "from sklearn.metrics import accuracy_score\n",
    "from random import randint\n",
    "from IPython.display import display\n",
    "from sklearn.cluster import KMeans\n",
    "from mpl_toolkits.mplot3d import Axes3D"
   ]
  },
  {
   "cell_type": "code",
   "execution_count": null,
   "metadata": {},
   "outputs": [],
   "source": [
    "data = pd.read_csv(\"haberman.data\",header=None)\n",
    "data_df = pd.DataFrame(data)\n",
    "data_df.dropna(inplace=True)\n",
    "data_df.columns = ['Age','Year','Nodes','Survival_status']\n",
    "data_df['Survival_status'] = data_df['Survival_status'].astype(int)\n",
    "data_df['Survival_status'] = data_df['Survival_status'].map({2:0 , 1:1})\n",
    "data_df.drop_duplicates(inplace=True)"
   ]
  },
  {
   "cell_type": "code",
   "execution_count": null,
   "metadata": {},
   "outputs": [],
   "source": [
    "def class_percentage(p,n):\n",
    "    a,b = list(p['Survival_status']).count(1),list(p['Survival_status']).count(0)\n",
    "    return a*100/n,b*100/n"
   ]
  },
  {
   "cell_type": "code",
   "execution_count": null,
   "metadata": {},
   "outputs": [],
   "source": [
    "class0_df = data_df[data_df['Survival_status']!=1]\n",
    "class0_df.reset_index(drop=True)\n",
    "class1_df = data_df[data_df['Survival_status']!=0]\n",
    "class1_df.reset_index(drop=True)\n",
    "print()"
   ]
  },
  {
   "cell_type": "code",
   "execution_count": null,
   "metadata": {},
   "outputs": [],
   "source": [
    "class0_df['Survival_status'].value_counts()"
   ]
  },
  {
   "cell_type": "code",
   "execution_count": null,
   "metadata": {},
   "outputs": [],
   "source": [
    "original_data = data_df.copy(deep=True)\n",
    "original_data_class0 = class0_df.copy(deep=True)\n",
    "original_data_class1 = class1_df.copy(deep=True)    \n",
    "class0_df.head(4)"
   ]
  },
  {
   "cell_type": "code",
   "execution_count": null,
   "metadata": {},
   "outputs": [],
   "source": [
    "def flip(a):\n",
    "    n = len(a)\n",
    "    p = int(n*0.9)\n",
    "    for i in range(p):\n",
    "        rand = randint(0,n-1)\n",
    "        a['Survival_status'][a.index[rand]] = int(not a['Survival_status'][a.index[rand]])"
   ]
  },
  {
   "cell_type": "code",
   "execution_count": null,
   "metadata": {},
   "outputs": [],
   "source": [
    "flip(class0_df)\n",
    "print(class_percentage(class0_df,len(class0_df)))"
   ]
  },
  {
   "cell_type": "code",
   "execution_count": null,
   "metadata": {},
   "outputs": [],
   "source": [
    "flip(class1_df)\n",
    "print(class_percentage(class1_df,len(class1_df)))"
   ]
  },
  {
   "cell_type": "markdown",
   "metadata": {},
   "source": [
    "# OriginalData Train test split"
   ]
  },
  {
   "cell_type": "code",
   "execution_count": null,
   "metadata": {},
   "outputs": [],
   "source": [
    "x_train,x_test,y_train,y_test = train_test_split(data_df.loc[:,data_df.columns!='Survival_status'],data_df['Survival_status'],test_size = 0.38)"
   ]
  },
  {
   "cell_type": "markdown",
   "metadata": {},
   "source": [
    "# Mislabeled Data "
   ]
  },
  {
   "cell_type": "code",
   "execution_count": null,
   "metadata": {},
   "outputs": [],
   "source": [
    "Mislabeled = class0_df.add(class1_df,fill_value=0)"
   ]
  },
  {
   "cell_type": "code",
   "execution_count": null,
   "metadata": {},
   "outputs": [],
   "source": [
    "data_df['Survival_status'].value_counts()"
   ]
  },
  {
   "cell_type": "code",
   "execution_count": null,
   "metadata": {},
   "outputs": [],
   "source": [
    "Mislabeled['Survival_status'].value_counts()"
   ]
  },
  {
   "cell_type": "code",
   "execution_count": null,
   "metadata": {},
   "outputs": [],
   "source": [
    "print(177/306 , 193/306 , 48/306)"
   ]
  },
  {
   "cell_type": "code",
   "execution_count": null,
   "metadata": {},
   "outputs": [],
   "source": [
    "X_train,X_test,Y_train,Y_test = train_test_split(Mislabeled.loc[:,Mislabeled.columns!='Survival_status'],Mislabeled['Survival_status'],test_size = 0.38)"
   ]
  },
  {
   "cell_type": "code",
   "execution_count": null,
   "metadata": {},
   "outputs": [],
   "source": [
    "Y_train.unique()"
   ]
  },
  {
   "cell_type": "markdown",
   "metadata": {},
   "source": [
    "# Model Training"
   ]
  },
  {
   "cell_type": "code",
   "execution_count": null,
   "metadata": {},
   "outputs": [],
   "source": [
    "rf = RandomForestClassifier()\n",
    "rf.fit(X_train,Y_train)\n",
    "predict = rf.predict(x_test)\n",
    "accuracy_score(y_test,predict)"
   ]
  },
  {
   "cell_type": "markdown",
   "metadata": {},
   "source": [
    "# Original_Model"
   ]
  },
  {
   "cell_type": "code",
   "execution_count": null,
   "metadata": {},
   "outputs": [],
   "source": [
    "rf_original = RandomForestClassifier()\n",
    "rf_original.fit(x_train,y_train)\n",
    "predict_ori = rf_original.predict(x_test)\n",
    "accuracy_score(y_test,predict_ori)"
   ]
  },
  {
   "cell_type": "code",
   "execution_count": null,
   "metadata": {},
   "outputs": [],
   "source": [
    "data_df.describe()"
   ]
  },
  {
   "cell_type": "markdown",
   "metadata": {},
   "source": [
    "# Clustering"
   ]
  },
  {
   "cell_type": "code",
   "execution_count": null,
   "metadata": {},
   "outputs": [],
   "source": [
    "cl = KMeans(n_clusters=2)\n",
    "cl.fit(Mislabeled.loc[:,Mislabeled.columns!='Survival_status'])\n",
    "predict = cl.labels_"
   ]
  },
  {
   "cell_type": "code",
   "execution_count": null,
   "metadata": {},
   "outputs": [],
   "source": [
    "print(list(predict).count(0)*100/289,list(predict).count(1)*100/289)\n",
    "Mislabeled.reset_index(drop=True,inplace=True)"
   ]
  },
  {
   "cell_type": "code",
   "execution_count": null,
   "metadata": {},
   "outputs": [],
   "source": [
    "for i in range(len(Mislabeled)):\n",
    "    if predict[i]!=Mislabeled['Survival_status'][i]:\n",
    "        Mislabeled['Survival_status'][i] = np.NaN        "
   ]
  },
  {
   "cell_type": "code",
   "execution_count": null,
   "metadata": {},
   "outputs": [],
   "source": [
    "Mislabeled['Survival_status'].value_counts()"
   ]
  },
  {
   "cell_type": "code",
   "execution_count": null,
   "metadata": {},
   "outputs": [],
   "source": [
    "Mislabeled.dropna(inplace=True)"
   ]
  },
  {
   "cell_type": "code",
   "execution_count": null,
   "metadata": {},
   "outputs": [],
   "source": [
    "Mislabeled.shape"
   ]
  },
  {
   "cell_type": "code",
   "execution_count": null,
   "metadata": {},
   "outputs": [],
   "source": [
    "x1,x2,y1,y2 = train_test_split(Mislabeled.loc[:,Mislabeled.columns!='Survival_status'],Mislabeled['Survival_status'],test_size = 0.38)"
   ]
  },
  {
   "cell_type": "code",
   "execution_count": null,
   "metadata": {},
   "outputs": [],
   "source": [
    "rf_final = RandomForestClassifier()\n",
    "rf_final.fit(x1,y1)\n",
    "p1 = rf_final.predict(x_test)\n",
    "accuracy_score(y_test,p1)"
   ]
  },
  {
   "cell_type": "markdown",
   "metadata": {},
   "source": [
    "# Plot 3D Graph"
   ]
  },
  {
   "cell_type": "code",
   "execution_count": null,
   "metadata": {},
   "outputs": [],
   "source": [
    "%matplotlib qt  \n",
    "def plot_3d(x,y,z,label):\n",
    "    fig = plt.figure()\n",
    "    ax = fig.gca(projection='3d')\n",
    "    colour = label.map({0:'r',1:'g'})\n",
    "    ax.scatter(x,y,z,c = colour)\n",
    "plot_3d(data_df['Age'],data_df['Year'],data_df['Nodes'],data_df['Survival_status'])\n",
    "plot_3d(Mislabeled['Age'],Mislabeled['Year'],Mislabeled['Nodes'],Mislabeled['Survival_status'])"
   ]
  }
 ],
 "metadata": {
  "kernelspec": {
   "display_name": "Python 3",
   "language": "python",
   "name": "python3"
  },
  "language_info": {
   "codemirror_mode": {
    "name": "ipython",
    "version": 3
   },
   "file_extension": ".py",
   "mimetype": "text/x-python",
   "name": "python",
   "nbconvert_exporter": "python",
   "pygments_lexer": "ipython3",
   "version": "3.7.1"
  }
 },
 "nbformat": 4,
 "nbformat_minor": 2
}
