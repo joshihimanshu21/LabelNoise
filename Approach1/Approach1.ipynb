{
 "cells": [
  {
   "cell_type": "code",
   "execution_count": 76,
   "metadata": {},
   "outputs": [],
   "source": [
    "#import all modules here\n",
    "import pandas as pd\n",
    "import numpy as np\n",
    "import matplotlib.pyplot as plt\n",
    "from sklearn.decomposition import PCA\n",
    "from sklearn.cluster import KMeans\n",
    "from sklearn.preprocessing import StandardScaler\n",
    "import os\n",
    "import numpy as np\n",
    "import pandas as pd\n",
    "import matplotlib.pyplot as plt\n",
    "from sklearn.model_selection import train_test_split\n",
    "import sklearn.linear_model as sk\n",
    "from sklearn.tree import DecisionTreeClassifier\n",
    "from sklearn.linear_model import LogisticRegression\n",
    "from sklearn.ensemble import RandomForestClassifier\n",
    "from sklearn.naive_bayes import GaussianNB\n",
    "from sklearn.model_selection import train_test_split\n",
    "from collections import defaultdict\n",
    "from sklearn.svm import SVC\n",
    "from sklearn.metrics import accuracy_score\n",
    "from random import randint\n",
    "from IPython.display import display\n",
    "from sklearn.cluster import KMeans\n",
    "from sklearn.decomposition import PCA\n",
    "from sklearn import preprocessing\n",
    "import seaborn as sn\n",
    "from sklearn.preprocessing import StandardScaler\n",
    "import warnings\n",
    "warnings.filterwarnings('ignore')\n",
    "import random"
   ]
  },
  {
   "cell_type": "code",
   "execution_count": 77,
   "metadata": {},
   "outputs": [],
   "source": [
    "# data = pd.read_csv(\"/home/shinigami/new/LabelNoise/haberman.data\",header=None)\n",
    "# data.fillna(data.median(),inplace=True)\n",
    "# data.columns = ['Age','Year','Nodes','Survival_status']\n",
    "# data['Survival_status'] = data['Survival_status'].astype(int)\n",
    "# data['Survival_status'] = data['Survival_status'].map({2:0 , 1:1})\n",
    "# data.drop_duplicates(inplace=True)"
   ]
  },
  {
   "cell_type": "code",
   "execution_count": 78,
   "metadata": {},
   "outputs": [],
   "source": [
    "data = pd.read_csv('/home/shinigami/new/LabelNoise/SPECT.train',header=None)\n",
    "# features = df.loc[:,df.columns!=0]\n",
    "# label = df[0]\n"
   ]
  },
  {
   "cell_type": "code",
   "execution_count": 79,
   "metadata": {},
   "outputs": [],
   "source": [
    "def cluster_comparison(data,label_col_name,p):\n",
    "    ############################################\n",
    "    data['Original_label'] = data[label_col_name]\n",
    "    class0 = data.loc[data[label_col_name]!=1,:]\n",
    "    class1 = data.loc[data[label_col_name]!=0,:]\n",
    "    def add_noise(data,p):\n",
    "        sample = data.sample(frac=p)\n",
    "        for i in list(sample.index):\n",
    "            data[label_col_name][i] = int(not data[label_col_name][i])\n",
    "    add_noise(class0,p)\n",
    "    add_noise(class1,p)\n",
    "    data_df = pd.concat([class0,class1])\n",
    "    data_df.reset_index(inplace=True,drop=True)\n",
    "#     print(data_df.head(3))\n",
    "    noisy_indices = data_df[data_df[label_col_name]!=data_df['Original_label']].index\n",
    "#     print(list(noisy_indices))\n",
    "#     ############################################\n",
    "    km = KMeans(n_clusters=2)\n",
    "    features = data_df[data_df.columns.difference([label_col_name,'Original_label'])]\n",
    "    label = data_df[label_col_name]\n",
    "    km.fit(features)\n",
    "    cluster_label = pd.Series(km.labels_)\n",
    "    data_df['Cluster'] = cluster_label\n",
    "    #print(data_df.head(4))\n",
    "    #print(\"Hoye HOyeee\")\n",
    "#     ############################################\n",
    "    cluster0 = data_df.loc[data_df['Cluster']==0,:]\n",
    "    cluster1 = data_df.loc[data_df['Cluster']==1,:]\n",
    "    def label_return(data):\n",
    "        count0 = len(data_df.loc[data_df[label_col_name]==0,:])\n",
    "        count1 = len(data_df.loc[data_df[label_col_name]==1,:])\n",
    "        if count1>count0:\n",
    "            return (1,0)\n",
    "        elif count1==count0:\n",
    "            temp = random.choice([1,0])\n",
    "            return (temp),int(not temp)\n",
    "        else:\n",
    "            return (0,1)\n",
    "    c0_label,c1_label = label_return(cluster0)\n",
    "    data_df['cluster_label'] = np.nan\n",
    "    for i in range(data_df.shape[0]):\n",
    "        if data_df['cluster_label'][i]==0:\n",
    "            data_df['cluster_label'][i] = c0_label\n",
    "        else:\n",
    "            data_df['cluster_label'][i] = c1_label\n",
    "    data_df.drop(['Cluster'],axis=1,inplace=True)\n",
    "    #print(data_df.head(4))\n",
    "    ###########################################\n",
    "    p2p = 0\n",
    "    p2n = 0\n",
    "    n2p = 0\n",
    "    n2n = 0\n",
    "    for i in list(data_df.index):\n",
    "        if data_df[label_col_name][i]!=data_df['cluster_label'][i]:\n",
    "            if i in noisy_indices:\n",
    "                n2n += 1\n",
    "            else:\n",
    "                p2n += 1\n",
    "        else:\n",
    "            if i in noisy_indices:\n",
    "                n2p += 1\n",
    "            else:\n",
    "                p2p += 1\n",
    "    print(\"p2p={},n2n={},p2n={},n2p={}\".format(p2p,n2n,p2n,n2p))            "
   ]
  },
  {
   "cell_type": "code",
   "execution_count": 80,
   "metadata": {},
   "outputs": [],
   "source": [
    "# cluster_comparison(data,'Survival_status',0.1)\n",
    "# cluster_comparison(data,'Survival_status',0.2)\n",
    "# cluster_comparison(data,'Survival_status',0.3)\n",
    "# cluster_comparison(data,'Survival_status',0.4)\n",
    "# cluster_comparison(data,'Survival_status',0.5)"
   ]
  },
  {
   "cell_type": "code",
   "execution_count": 81,
   "metadata": {},
   "outputs": [
    {
     "name": "stdout",
     "output_type": "stream",
     "text": [
      "p2p=36,n2n=4,p2n=36,n2p=4\n",
      "p2p=32,n2n=8,p2n=32,n2p=8\n",
      "p2p=28,n2n=12,p2n=28,n2p=12\n",
      "p2p=24,n2n=16,p2n=24,n2p=16\n",
      "p2p=20,n2n=20,p2n=20,n2p=20\n"
     ]
    }
   ],
   "source": [
    "cluster_comparison(data,0,0.1)\n",
    "cluster_comparison(data,0,0.2)\n",
    "cluster_comparison(data,0,0.3)\n",
    "cluster_comparison(data,0,0.4)\n",
    "cluster_comparison(data,0,0.5)"
   ]
  }
 ],
 "metadata": {
  "kernelspec": {
   "display_name": "Python 3",
   "language": "python",
   "name": "python3"
  },
  "language_info": {
   "codemirror_mode": {
    "name": "ipython",
    "version": 3
   },
   "file_extension": ".py",
   "mimetype": "text/x-python",
   "name": "python",
   "nbconvert_exporter": "python",
   "pygments_lexer": "ipython3",
   "version": "3.6.7"
  }
 },
 "nbformat": 4,
 "nbformat_minor": 2
}
