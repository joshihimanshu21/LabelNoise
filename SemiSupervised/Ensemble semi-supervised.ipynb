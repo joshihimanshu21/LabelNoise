{
 "cells": [
  {
   "cell_type": "code",
   "execution_count": 361,
   "metadata": {},
   "outputs": [],
   "source": [
    "import os\n",
    "import numpy as np\n",
    "import pandas as pd\n",
    "import matplotlib.pyplot as plt\n",
    "from sklearn.model_selection import train_test_split\n",
    "import sklearn.linear_model as sk\n",
    "from sklearn.tree import DecisionTreeClassifier\n",
    "from sklearn.linear_model import LogisticRegression\n",
    "from sklearn.ensemble import RandomForestClassifier\n",
    "from sklearn.naive_bayes import GaussianNB\n",
    "from sklearn.model_selection import train_test_split\n",
    "from collections import defaultdict\n",
    "from sklearn.svm import SVC\n",
    "from sklearn.metrics import accuracy_score\n",
    "from random import randint\n",
    "from IPython.display import display\n",
    "from sklearn.cluster import KMeans\n",
    "from sklearn.decomposition import PCA\n",
    "from sklearn import preprocessing\n",
    "import seaborn as sn\n",
    "from sklearn.preprocessing import StandardScaler\n",
    "from sklearn.semi_supervised import LabelPropagation\n",
    "import warnings\n",
    "warnings.filterwarnings('ignore')\n",
    "from collections import defaultdict,Counter"
   ]
  },
  {
   "cell_type": "code",
   "execution_count": 362,
   "metadata": {},
   "outputs": [],
   "source": [
    "# data = pd.read_csv('../SPECT.train',header=None)     #label Column is 0\n",
    "# label_col_name = 0"
   ]
  },
  {
   "cell_type": "code",
   "execution_count": 363,
   "metadata": {},
   "outputs": [],
   "source": [
    "# data_df = pd.read_csv(\"../haberman.data\",header=None)\n",
    "# data_df.fillna(data_df.median(),inplace=True)\n",
    "# data_df.columns = ['Age','Year','Nodes','Survival_status']\n",
    "# data_df['Survival_status'] = data_df['Survival_status'].astype(int)\n",
    "# data_df['Survival_status'] = data_df['Survival_status'].map({2:0 , 1:1})\n",
    "# data_df.drop_duplicates(inplace=True)\n",
    "# data = data_df\n",
    "# label_col_name = 'Survival_status'"
   ]
  },
  {
   "cell_type": "code",
   "execution_count": 364,
   "metadata": {},
   "outputs": [],
   "source": [
    "df = pd.read_csv('../heart-disease.data',header=None, names=['age','sex','cp','trestbps','chol','fbs','restecg','thalach','exang','oldpeak','slope','ca','thal','label'])\n",
    "label = df['label']\n",
    "df.replace(r'?',np.nan,inplace=True)\n",
    "df.fillna(df.median(),inplace=True)\n",
    "df_std = StandardScaler().fit_transform(df)\n",
    "df = pd.DataFrame(df_std)\n",
    "df.columns = ['age','sex','cp','trestbps','chol','fbs','restecg','thalach','exang','oldpeak','slope','ca','thal','label']\n",
    "df['label'] = label\n",
    "df['label'] = df['label'].map({1:1,2:1,3:1,4:1,0:0})\n",
    "data = df\n",
    "label_col_name = 'label'"
   ]
  },
  {
   "cell_type": "code",
   "execution_count": 365,
   "metadata": {},
   "outputs": [],
   "source": [
    "def model_accuracy(df,model,label):\n",
    "    m = model()\n",
    "    features = df.loc[:,df.columns!=label]\n",
    "    label = df[label]\n",
    "    x_train,x_test,y_train,y_test = train_test_split(features,label,test_size=0.38)\n",
    "    m.fit(x_train,y_train)\n",
    "    return m.score(x_test,y_test)"
   ]
  },
  {
   "cell_type": "code",
   "execution_count": 366,
   "metadata": {},
   "outputs": [],
   "source": [
    "models = [SVC,RandomForestClassifier,GaussianNB,LogisticRegression,DecisionTreeClassifier]\n",
    "acc = pd.DataFrame()\n",
    "for model in models:\n",
    "    result = model_accuracy(data,model,label_col_name)\n",
    "    acc = acc.append(pd.Series(model_accuracy(data,model,label_col_name)),ignore_index=True)\n",
    "acc.columns = ['Accuracy']    \n",
    "acc['model'] = pd.Series([\"SVC\",\"Random Forest\",\"Naive Bayes\",\"Logistic Regression\",\"Decision Tree\"])                     "
   ]
  },
  {
   "cell_type": "code",
   "execution_count": 367,
   "metadata": {},
   "outputs": [
    {
     "data": {
      "text/plain": [
       "<matplotlib.axes._subplots.AxesSubplot at 0x7f7167896dd8>"
      ]
     },
     "execution_count": 367,
     "metadata": {},
     "output_type": "execute_result"
    },
    {
     "data": {
      "image/png": "[encoded data removed]",
      "text/plain": [
       "<Figure size 432x288 with 1 Axes>"
      ]
     },
     "metadata": {
      "needs_background": "light"
     },
     "output_type": "display_data"
    }
   ],
   "source": [
    "acc.plot(x='model',y='Accuracy',kind='bar')"
   ]
  },
  {
   "cell_type": "markdown",
   "metadata": {},
   "source": [
    "> Adding Noise"
   ]
  },
  {
   "cell_type": "code",
   "execution_count": 368,
   "metadata": {},
   "outputs": [],
   "source": [
    "data['Original_label'] = data[label_col_name]\n",
    "class0 = data.loc[data[label_col_name]!=1,:]\n",
    "class1 = data.loc[data[label_col_name]!=0,:]\n",
    "def noise(data):\n",
    "    sample = data.sample(frac = 0.3)\n",
    "    for i in list(sample.index):\n",
    "        data[label_col_name][i] = int(not data[label_col_name][i])\n",
    "    return list(sample.index)\n",
    "noise(class0)\n",
    "noise(class1)\n",
    "mislabeled = pd.concat([class0,class1])\n",
    "mislabeled.reset_index(inplace=True)\n",
    "indices = list(mislabeled.index)\n",
    "noisey_indices = mislabeled[mislabeled['Original_label']!=mislabeled[label_col_name]].index\n",
    "mislabeled.drop(columns=['index'],inplace=True)"
   ]
  },
  {
   "cell_type": "markdown",
   "metadata": {},
   "source": [
    "> Ensemble Learning"
   ]
  },
  {
   "cell_type": "code",
   "execution_count": 369,
   "metadata": {},
   "outputs": [],
   "source": [
    "features = mislabeled.loc[:,data.columns!=0]\n",
    "label = mislabeled[label_col_name]\n",
    "x_train,x_test,y_train,y_test = train_test_split(features,label,test_size = 0.38)"
   ]
  },
  {
   "cell_type": "code",
   "execution_count": 370,
   "metadata": {},
   "outputs": [],
   "source": [
    "lr = LogisticRegression()\n",
    "lr.fit(x_train,y_train)\n",
    "predict = lr.predict(features)\n",
    "predicted = defaultdict(list)\n",
    "for i in range(len(indices)):\n",
    "    predicted[indices[i]].append(predict[i])    "
   ]
  },
  {
   "cell_type": "code",
   "execution_count": 371,
   "metadata": {},
   "outputs": [],
   "source": [
    "svm = SVC()\n",
    "svm.fit(x_train,y_train)\n",
    "predict = svm.predict(features)\n",
    "# predicted = defaultdict(list)\n",
    "for i in range(len(indices)):\n",
    "    predicted[indices[i]].append(predict[i])    "
   ]
  },
  {
   "cell_type": "code",
   "execution_count": 372,
   "metadata": {},
   "outputs": [],
   "source": [
    "dt = GaussianNB()\n",
    "dt.fit(x_train,y_train)\n",
    "predict = dt.predict(features)\n",
    "# predicted = defaultdict(list)\n",
    "for i in range(len(indices)):\n",
    "    predicted[indices[i]].append(predict[i])    "
   ]
  },
  {
   "cell_type": "code",
   "execution_count": 373,
   "metadata": {},
   "outputs": [],
   "source": [
    "dt = DecisionTreeClassifier()\n",
    "dt.fit(x_train,y_train)\n",
    "predict = dt.predict(features)\n",
    "# predicted = defaultdict(list)\n",
    "for i in range(len(indices)):\n",
    "    predicted[indices[i]].append(predict[i])    "
   ]
  },
  {
   "cell_type": "code",
   "execution_count": 374,
   "metadata": {},
   "outputs": [],
   "source": [
    "unlabel = {}\n",
    "for row in predicted:\n",
    "    if sum(predicted[row])>3:\n",
    "        unlabel[row] = 1\n",
    "    elif sum(predicted[row]) == 0:\n",
    "        unlabel[row] = 0\n",
    "    else:\n",
    "        unlabel[row] = -1\n",
    "unlabel = pd.DataFrame(list(unlabel.items()))\n",
    "unlabel.set_index(0,inplace=True)\n",
    "unlabel.columns = ['unlabeled']"
   ]
  },
  {
   "cell_type": "code",
   "execution_count": 375,
   "metadata": {},
   "outputs": [],
   "source": [
    "mislabeled = mislabeled.join(unlabel)"
   ]
  },
  {
   "cell_type": "code",
   "execution_count": 379,
   "metadata": {},
   "outputs": [],
   "source": [
    "def ApplySemiSupervised(mislabeled,col,original_mis_col):\n",
    "    lp = LabelPropagation()\n",
    "    lp.fit(mislabeled[mislabeled.columns.difference([col,'Original_label', original_mis_col])],mislabeled[col])\n",
    "    arr = lp.predict(mislabeled[mislabeled.columns.difference([col,'Original_label',original_mis_col])])    \n",
    "    mislabeled['semi'] = arr\n",
    "    detected = []\n",
    "    cnt = 0\n",
    "    for i in indices:\n",
    "        if mislabeled['Original_label'][i] != mislabeled['semi'][i]:\n",
    "            detected.append(i)\n",
    "    bad_change =  0\n",
    "    #detected Noise (Comparing with mislabled Data label)\n",
    "    for i in detected:\n",
    "        if i in noisy_indices:\n",
    "            cnt+=1\n",
    "        else:\n",
    "            bad_change+=1\n",
    "                \n",
    "    return pd.DataFrame(data={'Total Mislabeled':[len(noisy_indices)], \n",
    "                              'Total Mismatch':[len(detected)], \n",
    "                              'True Identified labels(Actual Noise)':[cnt], \n",
    "                              'False identified labels(Not Noise fliped)':[bad_change], \n",
    "                              'Total Noise Ratio':len(noisy_indices)/data.shape[0], \n",
    "                              'True Identified Ratio(Actual Noise detected ratio)':cnt/len(noisy_indices)}\n",
    "                       )\n"
   ]
  },
  {
   "cell_type": "code",
   "execution_count": 381,
   "metadata": {},
   "outputs": [
    {
     "data": {
      "text/html": [
       "<div>\n",
       "<style scoped>\n",
       "    .dataframe tbody tr th:only-of-type {\n",
       "        vertical-align: middle;\n",
       "    }\n",
       "\n",
       "    .dataframe tbody tr th {\n",
       "        vertical-align: top;\n",
       "    }\n",
       "\n",
       "    .dataframe thead th {\n",
       "        text-align: right;\n",
       "    }\n",
       "</style>\n",
       "<table border=\"1\" class=\"dataframe\">\n",
       "  <thead>\n",
       "    <tr style=\"text-align: right;\">\n",
       "      <th></th>\n",
       "      <th>Total Mislabeled</th>\n",
       "      <th>Total Mismatch</th>\n",
       "      <th>True Identified labels(Actual Noise)</th>\n",
       "      <th>False identified labels(Not Noise fliped)</th>\n",
       "      <th>Total Noise Ratio</th>\n",
       "      <th>True Identified Ratio(Actual Noise detected ratio)</th>\n",
       "    </tr>\n",
       "  </thead>\n",
       "  <tbody>\n",
       "    <tr>\n",
       "      <th>0</th>\n",
       "      <td>91</td>\n",
       "      <td>89</td>\n",
       "      <td>31</td>\n",
       "      <td>58</td>\n",
       "      <td>0.30033</td>\n",
       "      <td>0.340659</td>\n",
       "    </tr>\n",
       "  </tbody>\n",
       "</table>\n",
       "</div>"
      ],
      "text/plain": [
       "   Total Mislabeled  Total Mismatch  True Identified labels(Actual Noise)  \\\n",
       "0                91              89                                    31   \n",
       "\n",
       "   False identified labels(Not Noise fliped)  Total Noise Ratio  \\\n",
       "0                                         58            0.30033   \n",
       "\n",
       "   True Identified Ratio(Actual Noise detected ratio)  \n",
       "0                                           0.340659   "
      ]
     },
     "execution_count": 381,
     "metadata": {},
     "output_type": "execute_result"
    }
   ],
   "source": [
    "ApplySemiSupervised(mislabeled,'unlabeled',label_col_name)\n"
   ]
  },
  {
   "cell_type": "code",
   "execution_count": 378,
   "metadata": {},
   "outputs": [
    {
     "data": {
      "text/html": [
       "<div>\n",
       "<style scoped>\n",
       "    .dataframe tbody tr th:only-of-type {\n",
       "        vertical-align: middle;\n",
       "    }\n",
       "\n",
       "    .dataframe tbody tr th {\n",
       "        vertical-align: top;\n",
       "    }\n",
       "\n",
       "    .dataframe thead th {\n",
       "        text-align: right;\n",
       "    }\n",
       "</style>\n",
       "<table border=\"1\" class=\"dataframe\">\n",
       "  <thead>\n",
       "    <tr style=\"text-align: right;\">\n",
       "      <th></th>\n",
       "      <th>age</th>\n",
       "      <th>sex</th>\n",
       "      <th>cp</th>\n",
       "      <th>trestbps</th>\n",
       "      <th>chol</th>\n",
       "      <th>fbs</th>\n",
       "      <th>restecg</th>\n",
       "      <th>thalach</th>\n",
       "      <th>exang</th>\n",
       "      <th>oldpeak</th>\n",
       "      <th>slope</th>\n",
       "      <th>ca</th>\n",
       "      <th>thal</th>\n",
       "      <th>label</th>\n",
       "      <th>Original_label</th>\n",
       "      <th>unlabeled</th>\n",
       "      <th>semi</th>\n",
       "    </tr>\n",
       "  </thead>\n",
       "  <tbody>\n",
       "    <tr>\n",
       "      <th>0</th>\n",
       "      <td>0.948726</td>\n",
       "      <td>0.686202</td>\n",
       "      <td>-2.251775</td>\n",
       "      <td>0.757525</td>\n",
       "      <td>-0.264900</td>\n",
       "      <td>2.394438</td>\n",
       "      <td>1.016684</td>\n",
       "      <td>0.017197</td>\n",
       "      <td>-0.696631</td>\n",
       "      <td>1.087338</td>\n",
       "      <td>2.274579</td>\n",
       "      <td>-0.711131</td>\n",
       "      <td>0.660004</td>\n",
       "      <td>0</td>\n",
       "      <td>0</td>\n",
       "      <td>0</td>\n",
       "      <td>0</td>\n",
       "    </tr>\n",
       "    <tr>\n",
       "      <th>1</th>\n",
       "      <td>-1.932564</td>\n",
       "      <td>0.686202</td>\n",
       "      <td>-0.165268</td>\n",
       "      <td>-0.096170</td>\n",
       "      <td>0.063974</td>\n",
       "      <td>-0.417635</td>\n",
       "      <td>-0.996749</td>\n",
       "      <td>1.637359</td>\n",
       "      <td>-0.696631</td>\n",
       "      <td>2.122573</td>\n",
       "      <td>2.274579</td>\n",
       "      <td>-0.711131</td>\n",
       "      <td>-0.890238</td>\n",
       "      <td>0</td>\n",
       "      <td>0</td>\n",
       "      <td>0</td>\n",
       "      <td>0</td>\n",
       "    </tr>\n",
       "    <tr>\n",
       "      <th>2</th>\n",
       "      <td>-1.489288</td>\n",
       "      <td>-1.457296</td>\n",
       "      <td>-1.208521</td>\n",
       "      <td>-0.096170</td>\n",
       "      <td>-0.825922</td>\n",
       "      <td>-0.417635</td>\n",
       "      <td>1.016684</td>\n",
       "      <td>0.980537</td>\n",
       "      <td>-0.696631</td>\n",
       "      <td>0.310912</td>\n",
       "      <td>-0.976352</td>\n",
       "      <td>-0.711131</td>\n",
       "      <td>-0.890238</td>\n",
       "      <td>0</td>\n",
       "      <td>0</td>\n",
       "      <td>0</td>\n",
       "      <td>0</td>\n",
       "    </tr>\n",
       "    <tr>\n",
       "      <th>3</th>\n",
       "      <td>0.172994</td>\n",
       "      <td>0.686202</td>\n",
       "      <td>-1.208521</td>\n",
       "      <td>-0.665300</td>\n",
       "      <td>-0.206864</td>\n",
       "      <td>-0.417635</td>\n",
       "      <td>-0.996749</td>\n",
       "      <td>1.243266</td>\n",
       "      <td>-0.696631</td>\n",
       "      <td>-0.206705</td>\n",
       "      <td>-0.976352</td>\n",
       "      <td>-0.711131</td>\n",
       "      <td>-0.890238</td>\n",
       "      <td>0</td>\n",
       "      <td>0</td>\n",
       "      <td>0</td>\n",
       "      <td>0</td>\n",
       "    </tr>\n",
       "    <tr>\n",
       "      <th>4</th>\n",
       "      <td>0.283813</td>\n",
       "      <td>-1.457296</td>\n",
       "      <td>0.877985</td>\n",
       "      <td>-0.665300</td>\n",
       "      <td>2.075914</td>\n",
       "      <td>-0.417635</td>\n",
       "      <td>-0.996749</td>\n",
       "      <td>0.586443</td>\n",
       "      <td>1.435481</td>\n",
       "      <td>-0.379244</td>\n",
       "      <td>-0.976352</td>\n",
       "      <td>-0.711131</td>\n",
       "      <td>-0.890238</td>\n",
       "      <td>1</td>\n",
       "      <td>0</td>\n",
       "      <td>1</td>\n",
       "      <td>1</td>\n",
       "    </tr>\n",
       "  </tbody>\n",
       "</table>\n",
       "</div>"
      ],
      "text/plain": [
       "        age       sex        cp  trestbps      chol       fbs   restecg  \\\n",
       "0  0.948726  0.686202 -2.251775  0.757525 -0.264900  2.394438  1.016684   \n",
       "1 -1.932564  0.686202 -0.165268 -0.096170  0.063974 -0.417635 -0.996749   \n",
       "2 -1.489288 -1.457296 -1.208521 -0.096170 -0.825922 -0.417635  1.016684   \n",
       "3  0.172994  0.686202 -1.208521 -0.665300 -0.206864 -0.417635 -0.996749   \n",
       "4  0.283813 -1.457296  0.877985 -0.665300  2.075914 -0.417635 -0.996749   \n",
       "\n",
       "    thalach     exang   oldpeak     slope        ca      thal  label  \\\n",
       "0  0.017197 -0.696631  1.087338  2.274579 -0.711131  0.660004      0   \n",
       "1  1.637359 -0.696631  2.122573  2.274579 -0.711131 -0.890238      0   \n",
       "2  0.980537 -0.696631  0.310912 -0.976352 -0.711131 -0.890238      0   \n",
       "3  1.243266 -0.696631 -0.206705 -0.976352 -0.711131 -0.890238      0   \n",
       "4  0.586443  1.435481 -0.379244 -0.976352 -0.711131 -0.890238      1   \n",
       "\n",
       "   Original_label  unlabeled  semi  \n",
       "0               0          0     0  \n",
       "1               0          0     0  \n",
       "2               0          0     0  \n",
       "3               0          0     0  \n",
       "4               0          1     1  "
      ]
     },
     "execution_count": 378,
     "metadata": {},
     "output_type": "execute_result"
    }
   ],
   "source": [
    "mislabeled.head()"
   ]
  },
  {
   "cell_type": "code",
   "execution_count": null,
   "metadata": {},
   "outputs": [],
   "source": []
  }
 ],
 "metadata": {
  "kernelspec": {
   "display_name": "Python 3",
   "language": "python",
   "name": "python3"
  },
  "language_info": {
   "codemirror_mode": {
    "name": "ipython",
    "version": 3
   },
   "file_extension": ".py",
   "mimetype": "text/x-python",
   "name": "python",
   "nbconvert_exporter": "python",
   "pygments_lexer": "ipython3",
   "version": "3.7.1"
  }
 },
 "nbformat": 4,
 "nbformat_minor": 2
}
