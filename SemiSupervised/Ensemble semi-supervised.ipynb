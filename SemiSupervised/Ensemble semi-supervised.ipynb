{
 "cells": [
  {
   "cell_type": "code",
   "execution_count": 30,
   "metadata": {},
   "outputs": [],
   "source": [
    "import os\n",
    "import numpy as np\n",
    "import pandas as pd\n",
    "import matplotlib.pyplot as plt\n",
    "from sklearn.model_selection import train_test_split\n",
    "import sklearn.linear_model as sk\n",
    "from sklearn.tree import DecisionTreeClassifier\n",
    "from sklearn.linear_model import LogisticRegression\n",
    "from sklearn.ensemble import RandomForestClassifier\n",
    "from sklearn.naive_bayes import GaussianNB\n",
    "from sklearn.model_selection import train_test_split\n",
    "from collections import defaultdict\n",
    "from sklearn.svm import SVC\n",
    "from sklearn.metrics import accuracy_score\n",
    "from random import randint\n",
    "from IPython.display import display\n",
    "from sklearn.cluster import KMeans\n",
    "from sklearn.decomposition import PCA\n",
    "from sklearn import preprocessing\n",
    "import seaborn as sn\n",
    "from sklearn.preprocessing import StandardScaler\n",
    "from sklearn.semi_supervised import LabelPropagation\n",
    "import warnings\n",
    "warnings.filterwarnings('ignore')\n",
    "from collections import defaultdict"
   ]
  },
  {
   "cell_type": "code",
   "execution_count": 3,
   "metadata": {},
   "outputs": [],
   "source": [
    "data = pd.read_csv('D:/LabelNoise/SPECT.train',header=None)     #label Column is 0"
   ]
  },
  {
   "cell_type": "code",
   "execution_count": 4,
   "metadata": {},
   "outputs": [],
   "source": [
    "def model_accuracy(df,model,label):\n",
    "    m = model()\n",
    "    features = df.loc[:,df.columns!=label]\n",
    "    label = df[label]\n",
    "    x_train,x_test,y_train,y_test = train_test_split(features,label,test_size=0.38)\n",
    "    m.fit(x_train,y_train)\n",
    "    return m.score(x_test,y_test)"
   ]
  },
  {
   "cell_type": "code",
   "execution_count": 18,
   "metadata": {},
   "outputs": [],
   "source": [
    "models = [SVC,RandomForestClassifier,GaussianNB,LogisticRegression,DecisionTreeClassifier]\n",
    "acc = pd.DataFrame()\n",
    "for model in models:\n",
    "    result = model_accuracy(data,model,0)\n",
    "    acc = acc.append(pd.Series(model_accuracy(data,model,0)),ignore_index=True)\n",
    "acc.columns = ['Accuracy']    \n",
    "acc['model'] = pd.Series([\"SVC\",\"Random Forest\",\"Naive Bayes\",\"Logistic Regression\",\"Decision Tree\"])                     "
   ]
  },
  {
   "cell_type": "code",
   "execution_count": 27,
   "metadata": {},
   "outputs": [
    {
     "data": {
      "text/plain": [
       "<matplotlib.axes._subplots.AxesSubplot at 0x1b62f200a90>"
      ]
     },
     "execution_count": 27,
     "metadata": {},
     "output_type": "execute_result"
    },
    {
     "data": {
      "image/png": "[encoded data removed]",
      "text/plain": [
       "<Figure size 432x288 with 1 Axes>"
      ]
     },
     "metadata": {
      "needs_background": "light"
     },
     "output_type": "display_data"
    }
   ],
   "source": [
    "acc.plot(x='model',y='Accuracy',kind='bar')"
   ]
  },
  {
   "cell_type": "markdown",
   "metadata": {},
   "source": [
    "> Adding Noise"
   ]
  },
  {
   "cell_type": "code",
   "execution_count": 32,
   "metadata": {},
   "outputs": [],
   "source": [
    "data['Original_label'] = data[0]\n",
    "class0 = data.loc[data[0]!=1,:]\n",
    "class1 = data.loc[data[0]!=0,:]\n",
    "def noise(data):\n",
    "    sample = data.sample(frac = 0.3)\n",
    "    for i in list(sample.index):\n",
    "        data[0][i] = int(not data[0][i])\n",
    "    return list(sample.index)    \n",
    "noise0 = noise(class0)\n",
    "noise1 = noise(class1)\n",
    "noisy_indices = noise0+noise1\n",
    "mislabeled = pd.concat([class0,class1])\n",
    "indices = list(mislabeled.index)     "
   ]
  },
  {
   "cell_type": "markdown",
   "metadata": {},
   "source": [
    "> Ensemble Learning"
   ]
  },
  {
   "cell_type": "code",
   "execution_count": 33,
   "metadata": {},
   "outputs": [],
   "source": [
    "features = mislabeled.loc[:,data.columns!=0]\n",
    "label = mislabeled[0]\n",
    "x_train,x_test,y_train,y_test = train_test_split(features,label,test_size = 0.38)"
   ]
  },
  {
   "cell_type": "code",
   "execution_count": 38,
   "metadata": {},
   "outputs": [],
   "source": [
    "lr = LogisticRegression()\n",
    "lr.fit(x_train,y_train)\n",
    "predict = lr.predict(features)\n",
    "predicted = defaultdict(list)\n",
    "for i in range(len(indices)):\n",
    "    predicted[indices[i]].append(predict[i])    "
   ]
  },
  {
   "cell_type": "code",
   "execution_count": 39,
   "metadata": {},
   "outputs": [],
   "source": [
    "svm = SVC()\n",
    "svm.fit(x_train,y_train)\n",
    "predict = svm.predict(features)\n",
    "# predicted = defaultdict(list)\n",
    "for i in range(len(indices)):\n",
    "    predicted[indices[i]].append(predict[i])    "
   ]
  },
  {
   "cell_type": "code",
   "execution_count": 40,
   "metadata": {},
   "outputs": [],
   "source": [
    "dt = DecisionTreeClassifier()\n",
    "dt.fit(x_train,y_train)\n",
    "predict = dt.predict(features)\n",
    "# predicted = defaultdict(list)\n",
    "for i in range(len(indices)):\n",
    "    predicted[indices[i]].append(predict[i])    "
   ]
  },
  {
   "cell_type": "code",
   "execution_count": 41,
   "metadata": {},
   "outputs": [
    {
     "data": {
      "text/plain": [
       "defaultdict(list,\n",
       "            {40: [1, 0, 0],\n",
       "             41: [0, 0, 0],\n",
       "             42: [0, 0, 0],\n",
       "             43: [0, 0, 0],\n",
       "             44: [0, 0, 0],\n",
       "             45: [0, 0, 1],\n",
       "             46: [0, 0, 1],\n",
       "             47: [0, 0, 1],\n",
       "             48: [0, 0, 0],\n",
       "             49: [1, 0, 1],\n",
       "             50: [0, 0, 0],\n",
       "             51: [0, 0, 0],\n",
       "             52: [0, 0, 0],\n",
       "             53: [0, 0, 0],\n",
       "             54: [1, 0, 1],\n",
       "             55: [0, 0, 0],\n",
       "             56: [0, 0, 1],\n",
       "             57: [0, 0, 0],\n",
       "             58: [0, 0, 0],\n",
       "             59: [0, 0, 0],\n",
       "             60: [0, 0, 0],\n",
       "             61: [0, 0, 0],\n",
       "             62: [1, 0, 0],\n",
       "             63: [0, 0, 0],\n",
       "             64: [0, 0, 0],\n",
       "             65: [0, 0, 0],\n",
       "             66: [1, 0, 0],\n",
       "             67: [0, 0, 0],\n",
       "             68: [0, 0, 0],\n",
       "             69: [0, 0, 0],\n",
       "             70: [0, 0, 1],\n",
       "             71: [0, 0, 0],\n",
       "             72: [0, 0, 0],\n",
       "             73: [0, 0, 1],\n",
       "             74: [0, 0, 0],\n",
       "             75: [0, 0, 1],\n",
       "             76: [0, 0, 0],\n",
       "             77: [0, 0, 0],\n",
       "             78: [0, 1, 0],\n",
       "             79: [0, 0, 0],\n",
       "             0: [1, 1, 1],\n",
       "             1: [1, 1, 1],\n",
       "             2: [1, 1, 0],\n",
       "             3: [1, 1, 1],\n",
       "             4: [1, 1, 1],\n",
       "             5: [1, 1, 1],\n",
       "             6: [1, 1, 0],\n",
       "             7: [1, 1, 1],\n",
       "             8: [1, 1, 1],\n",
       "             9: [1, 1, 1],\n",
       "             10: [1, 1, 0],\n",
       "             11: [1, 1, 1],\n",
       "             12: [1, 1, 1],\n",
       "             13: [1, 1, 1],\n",
       "             14: [1, 1, 1],\n",
       "             15: [1, 1, 1],\n",
       "             16: [1, 1, 1],\n",
       "             17: [1, 1, 1],\n",
       "             18: [1, 1, 1],\n",
       "             19: [1, 1, 0],\n",
       "             20: [1, 1, 1],\n",
       "             21: [1, 1, 1],\n",
       "             22: [1, 1, 1],\n",
       "             23: [1, 1, 1],\n",
       "             24: [1, 1, 1],\n",
       "             25: [1, 1, 1],\n",
       "             26: [1, 1, 1],\n",
       "             27: [1, 1, 1],\n",
       "             28: [1, 1, 1],\n",
       "             29: [1, 1, 1],\n",
       "             30: [1, 0, 1],\n",
       "             31: [1, 0, 1],\n",
       "             32: [1, 1, 0],\n",
       "             33: [1, 1, 1],\n",
       "             34: [0, 1, 1],\n",
       "             35: [1, 1, 1],\n",
       "             36: [1, 1, 1],\n",
       "             37: [1, 1, 0],\n",
       "             38: [1, 1, 1],\n",
       "             39: [0, 1, 0]})"
      ]
     },
     "execution_count": 41,
     "metadata": {},
     "output_type": "execute_result"
    }
   ],
   "source": [
    "predicted"
   ]
  },
  {
   "cell_type": "code",
   "execution_count": null,
   "metadata": {},
   "outputs": [],
   "source": []
  }
 ],
 "metadata": {
  "kernelspec": {
   "display_name": "Python 3",
   "language": "python",
   "name": "python3"
  },
  "language_info": {
   "codemirror_mode": {
    "name": "ipython",
    "version": 3
   },
   "file_extension": ".py",
   "mimetype": "text/x-python",
   "name": "python",
   "nbconvert_exporter": "python",
   "pygments_lexer": "ipython3",
   "version": "3.7.1"
  }
 },
 "nbformat": 4,
 "nbformat_minor": 2
}
