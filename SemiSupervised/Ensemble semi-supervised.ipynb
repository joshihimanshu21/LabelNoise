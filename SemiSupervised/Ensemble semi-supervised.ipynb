{
 "cells": [
  {
   "cell_type": "code",
   "execution_count": 108,
   "metadata": {
    "collapsed": true
   },
   "outputs": [],
   "source": [
    "import os\n",
    "import numpy as np\n",
    "import pandas as pd\n",
    "import matplotlib.pyplot as plt\n",
    "from sklearn.model_selection import train_test_split\n",
    "import sklearn.linear_model as sk\n",
    "from sklearn.tree import DecisionTreeClassifier\n",
    "from sklearn.linear_model import LogisticRegression\n",
    "from sklearn.ensemble import RandomForestClassifier\n",
    "from sklearn.naive_bayes import GaussianNB\n",
    "from sklearn.model_selection import train_test_split\n",
    "from collections import defaultdict\n",
    "from sklearn.svm import SVC\n",
    "from sklearn.metrics import accuracy_score\n",
    "from random import randint\n",
    "from IPython.display import display\n",
    "from sklearn.cluster import KMeans\n",
    "from sklearn.decomposition import PCA\n",
    "from sklearn import preprocessing\n",
    "import seaborn as sn\n",
    "from sklearn.preprocessing import StandardScaler\n",
    "from sklearn.semi_supervised import LabelPropagation\n",
    "import warnings\n",
    "warnings.filterwarnings('ignore')\n",
    "from collections import defaultdict,Counter\n",
    "%matplotlib inline"
   ]
  },
  {
   "cell_type": "code",
   "execution_count": 109,
   "metadata": {
    "collapsed": true
   },
   "outputs": [],
   "source": [
    "data = pd.read_csv('../SPECT.train',header=None)     #label Column is 0\n",
    "label_col_name = 0"
   ]
  },
  {
   "cell_type": "code",
   "execution_count": 110,
   "metadata": {
    "collapsed": true
   },
   "outputs": [],
   "source": [
    "# data_df = pd.read_csv(\"../haberman.data\",header=None)\n",
    "# data_df.fillna(data_df.median(),inplace=True)\n",
    "# data_df.columns = ['Age','Year','Nodes','Survival_status']\n",
    "# data_df['Survival_status'] = data_df['Survival_status'].astype(int)\n",
    "# data_df['Survival_status'] = data_df['Survival_status'].map({2:0 , 1:1})\n",
    "# data_df.drop_duplicates(inplace=True)\n",
    "# data = data_df\n",
    "# label_col_name = 'Survival_status'"
   ]
  },
  {
   "cell_type": "code",
   "execution_count": 111,
   "metadata": {
    "collapsed": true
   },
   "outputs": [],
   "source": [
    "df = pd.read_csv('../heart-disease.data',header=None, names=['age','sex','cp','trestbps','chol','fbs','restecg','thalach','exang','oldpeak','slope','ca','thal','label'])\n",
    "label = df['label']\n",
    "df.replace(r'?',np.nan,inplace=True)\n",
    "df.fillna(df.median(),inplace=True)\n",
    "df_std = StandardScaler().fit_transform(df)\n",
    "df = pd.DataFrame(df_std)\n",
    "df.columns = ['age','sex','cp','trestbps','chol','fbs','restecg','thalach','exang','oldpeak','slope','ca','thal','label']\n",
    "df['label'] = label\n",
    "df['label'] = df['label'].map({1:1,2:1,3:1,4:1,0:0})\n",
    "data = df\n",
    "label_col_name = 'label'"
   ]
  },
  {
   "cell_type": "code",
   "execution_count": 112,
   "metadata": {
    "collapsed": true
   },
   "outputs": [],
   "source": [
    "def model_accuracy(df,model,label):\n",
    "    m = model()\n",
    "    features = df.loc[:,df.columns!=label]\n",
    "    label = df[label]\n",
    "    x_train,x_test,y_train,y_test = train_test_split(features,label,test_size=0.38)\n",
    "    m.fit(x_train,y_train)\n",
    "    return m.score(x_test,y_test)"
   ]
  },
  {
   "cell_type": "code",
   "execution_count": 113,
   "metadata": {
    "collapsed": true
   },
   "outputs": [],
   "source": [
    "models = [SVC,RandomForestClassifier,GaussianNB,LogisticRegression,DecisionTreeClassifier]\n",
    "acc = pd.DataFrame()\n",
    "for model in models:\n",
    "    result = model_accuracy(data,model,label_col_name)\n",
    "    acc = acc.append(pd.Series(model_accuracy(data,model,label_col_name)),ignore_index=True)\n",
    "acc.columns = ['Accuracy']    \n",
    "acc['model'] = pd.Series([\"SVC\",\"Random Forest\",\"Naive Bayes\",\"Logistic Regression\",\"Decision Tree\"])                     "
   ]
  },
  {
   "cell_type": "code",
   "execution_count": 114,
   "metadata": {},
   "outputs": [
    {
     "data": {
      "text/plain": [
       "<matplotlib.axes._subplots.AxesSubplot at 0x273b29c3470>"
      ]
     },
     "execution_count": 114,
     "metadata": {},
     "output_type": "execute_result"
    },
    {
     "data": {
      "image/png": "[encoded data removed]",
      "text/plain": [
       "<matplotlib.figure.Figure at 0x273b23d13c8>"
      ]
     },
     "metadata": {},
     "output_type": "display_data"
    }
   ],
   "source": [
    "acc.plot(x='model',y='Accuracy',kind='bar')"
   ]
  },
  {
   "cell_type": "markdown",
   "metadata": {},
   "source": [
    "> Adding Noise"
   ]
  },
  {
   "cell_type": "code",
   "execution_count": 115,
   "metadata": {
    "collapsed": true
   },
   "outputs": [],
   "source": [
    "data['Original_label'] = data[label_col_name]\n",
    "class0 = data.loc[data[label_col_name]!=1,:]\n",
    "class1 = data.loc[data[label_col_name]!=0,:]\n",
    "def noise(data):\n",
    "    sample = data.sample(frac = 0.3)\n",
    "    for i in list(sample.index):\n",
    "        data[label_col_name][i] = int(not data[label_col_name][i])\n",
    "    return list(sample.index)\n",
    "noise(class0)\n",
    "noise(class1)\n",
    "mislabeled = pd.concat([class0,class1])\n",
    "mislabeled.reset_index(inplace=True)\n",
    "indices = list(mislabeled.index)\n",
    "noisy_indices = mislabeled[mislabeled['Original_label']!=mislabeled[label_col_name]].index\n",
    "mislabeled.drop('index' , axis=1,inplace=True)"
   ]
  },
  {
   "cell_type": "code",
   "execution_count": null,
   "metadata": {
    "collapsed": true
   },
   "outputs": [],
   "source": []
  },
  {
   "cell_type": "markdown",
   "metadata": {},
   "source": [
    "> Ensemble Learning"
   ]
  },
  {
   "cell_type": "code",
   "execution_count": 116,
   "metadata": {
    "collapsed": true
   },
   "outputs": [],
   "source": [
    "features = mislabeled.loc[:,data.columns!=0]\n",
    "label = mislabeled[label_col_name]\n",
    "x_train,x_test,y_train,y_test = train_test_split(features,label,test_size = 0.38)"
   ]
  },
  {
   "cell_type": "code",
   "execution_count": 117,
   "metadata": {},
   "outputs": [],
   "source": [
    "lr = LogisticRegression()\n",
    "lr.fit(x_train,y_train)\n",
    "predict = lr.predict(features)\n",
    "\n",
    "# User Optimal Number of Cluster\n",
    "km = KMeans(n_clusters = 14)\n",
    "km.fit(mislabeled.loc[:,mislabeled.columns!=label_col_name])\n",
    "label = km.labels_\n",
    "mislabeled['logistic_cluster'] = label\n",
    "\n",
    "#OneHotEncoding\n",
    "mislabeled = pd.get_dummies(mislabeled,columns=['logistic_cluster'])\n",
    "\n",
    "#print(len(predict))\n",
    "#mislabeled['logistic_predict'] = predict\n",
    "predicted = defaultdict(list)\n",
    "for i in range(len(indices)):\n",
    "    predicted[indices[i]].append(predict[i])    "
   ]
  },
  {
   "cell_type": "code",
   "execution_count": 118,
   "metadata": {},
   "outputs": [],
   "source": [
    "svm = SVC()\n",
    "svm.fit(x_train,y_train)\n",
    "predict = svm.predict(features)\n",
    "km = KMeans(n_clusters = 14)\n",
    "km.fit(mislabeled.loc[:,mislabeled.columns!=label_col_name])\n",
    "label = km.labels_\n",
    "mislabeled['SVC_cluster'] = label\n",
    "\n",
    "#OneHotEncoding\n",
    "mislabeled = pd.get_dummies(mislabeled,columns=['SVC_cluster'])\n",
    "# print(len(predict))\n",
    "# mislabeled['SVC_predict'] = predict\n",
    "# predicted = defaultdict(list)\n",
    "for i in range(len(indices)):\n",
    "    predicted[indices[i]].append(predict[i])    "
   ]
  },
  {
   "cell_type": "code",
   "execution_count": 119,
   "metadata": {},
   "outputs": [],
   "source": [
    "dt = GaussianNB()\n",
    "dt.fit(x_train,y_train)\n",
    "predict = dt.predict(features)\n",
    "km = KMeans(n_clusters = 14)\n",
    "km.fit(mislabeled.loc[:,mislabeled.columns!=label_col_name])\n",
    "label = km.labels_\n",
    "mislabeled['Gaussian_cluster'] = label\n",
    "\n",
    "#OneHotEncoding\n",
    "mislabeled = pd.get_dummies(mislabeled,columns=['Gaussian_cluster'])\n",
    "# print(len(predict))\n",
    "# mislabeled['Gaussian_predict'] = predict\n",
    "# predicted = defaultdict(list)\n",
    "for i in range(len(indices)):\n",
    "    predicted[indices[i]].append(predict[i])    "
   ]
  },
  {
   "cell_type": "code",
   "execution_count": 120,
   "metadata": {},
   "outputs": [],
   "source": [
    "dt = DecisionTreeClassifier()\n",
    "dt.fit(x_train,y_train)\n",
    "predict = dt.predict(features)\n",
    "km = KMeans(n_clusters = 14)\n",
    "km.fit(mislabeled.loc[:,mislabeled.columns!=label_col_name])\n",
    "label = km.labels_\n",
    "mislabeled['Decision_cluster'] = label\n",
    "\n",
    "#OneHotEncoding\n",
    "mislabeled = pd.get_dummies(mislabeled,columns=['Decision_cluster'])\n",
    "# print(len(predict))\n",
    "# mislabeled['Decision_predict'] = predict\n",
    "# predicted = defaultdict(list)\n",
    "for i in range(len(indices)):\n",
    "    predicted[indices[i]].append(predict[i])    "
   ]
  },
  {
   "cell_type": "code",
   "execution_count": 121,
   "metadata": {
    "collapsed": true
   },
   "outputs": [],
   "source": [
    "unlabel = {}\n",
    "for row in predicted:\n",
    "    if sum(predicted[row])>3:\n",
    "        unlabel[row] = 1\n",
    "    elif sum(predicted[row]) == 0:\n",
    "        unlabel[row] = 0\n",
    "    else:\n",
    "        unlabel[row] = -1\n",
    "unlabel = pd.DataFrame(list(unlabel.items()))\n",
    "unlabel.set_index(0,inplace=True)\n",
    "unlabel.columns = ['unlabeled']"
   ]
  },
  {
   "cell_type": "code",
   "execution_count": 122,
   "metadata": {
    "collapsed": true
   },
   "outputs": [],
   "source": [
    "mislabeled = mislabeled.join(unlabel)"
   ]
  },
  {
   "cell_type": "code",
   "execution_count": 123,
   "metadata": {
    "collapsed": true
   },
   "outputs": [],
   "source": [
    "# mislabeled.to_csv(\"new_dataset2.csv\")"
   ]
  },
  {
   "cell_type": "code",
   "execution_count": 124,
   "metadata": {
    "collapsed": true
   },
   "outputs": [],
   "source": [
    "def ApplySemiSupervised(mislabeled,col,original_mis_col):\n",
    "    lp = LabelPropagation()\n",
    "    lp.fit(mislabeled[mislabeled.columns.difference([col,'Original_label', original_mis_col])],mislabeled[col])\n",
    "    arr = lp.predict(mislabeled[mislabeled.columns.difference([col,'Original_label',original_mis_col])])    \n",
    "    mislabeled['semi'] = arr\n",
    "    detected = []\n",
    "    cnt = 0\n",
    "    for i in indices:\n",
    "        if mislabeled['Original_label'][i] != mislabeled['semi'][i]:\n",
    "            detected.append(i)\n",
    "    bad_change =  0\n",
    "    #detected Noise (Comparing with mislabled Data label)\n",
    "    for i in detected:\n",
    "        if i in noisy_indices:\n",
    "            cnt+=1\n",
    "        else:\n",
    "            bad_change+=1\n",
    "                \n",
    "    return pd.DataFrame(data={'Total Mislabeled':[len(noisy_indices)], \n",
    "                              'Total Mismatch':[len(detected)], \n",
    "                              'True Identified labels(Actual Noise)':[cnt], \n",
    "                              'False identified labels(Not Noise fliped)':[bad_change], \n",
    "                              'Total Noise Ratio':len(noisy_indices)/data.shape[0], \n",
    "                              'True Identified Ratio(Actual Noise detected ratio)':cnt/len(noisy_indices)}\n",
    "                       )\n"
   ]
  },
  {
   "cell_type": "code",
   "execution_count": 125,
   "metadata": {},
   "outputs": [
    {
     "data": {
      "text/html": [
       "<div>\n",
       "<style>\n",
       "    .dataframe thead tr:only-child th {\n",
       "        text-align: right;\n",
       "    }\n",
       "\n",
       "    .dataframe thead th {\n",
       "        text-align: left;\n",
       "    }\n",
       "\n",
       "    .dataframe tbody tr th {\n",
       "        vertical-align: top;\n",
       "    }\n",
       "</style>\n",
       "<table border=\"1\" class=\"dataframe\">\n",
       "  <thead>\n",
       "    <tr style=\"text-align: right;\">\n",
       "      <th></th>\n",
       "      <th>False identified labels(Not Noise fliped)</th>\n",
       "      <th>Total Mislabeled</th>\n",
       "      <th>Total Mismatch</th>\n",
       "      <th>Total Noise Ratio</th>\n",
       "      <th>True Identified Ratio(Actual Noise detected ratio)</th>\n",
       "      <th>True Identified labels(Actual Noise)</th>\n",
       "    </tr>\n",
       "  </thead>\n",
       "  <tbody>\n",
       "    <tr>\n",
       "      <th>0</th>\n",
       "      <td>0</td>\n",
       "      <td>91</td>\n",
       "      <td>91</td>\n",
       "      <td>0.30033</td>\n",
       "      <td>1.0</td>\n",
       "      <td>91</td>\n",
       "    </tr>\n",
       "  </tbody>\n",
       "</table>\n",
       "</div>"
      ],
      "text/plain": [
       "   False identified labels(Not Noise fliped)  Total Mislabeled  \\\n",
       "0                                          0                91   \n",
       "\n",
       "   Total Mismatch  Total Noise Ratio  \\\n",
       "0              91            0.30033   \n",
       "\n",
       "   True Identified Ratio(Actual Noise detected ratio)  \\\n",
       "0                                                1.0    \n",
       "\n",
       "   True Identified labels(Actual Noise)  \n",
       "0                                    91  "
      ]
     },
     "execution_count": 125,
     "metadata": {},
     "output_type": "execute_result"
    }
   ],
   "source": [
    "ApplySemiSupervised(mislabeled,'unlabeled',label_col_name)\n"
   ]
  },
  {
   "cell_type": "code",
   "execution_count": 126,
   "metadata": {},
   "outputs": [
    {
     "data": {
      "text/html": [
       "<div>\n",
       "<style>\n",
       "    .dataframe thead tr:only-child th {\n",
       "        text-align: right;\n",
       "    }\n",
       "\n",
       "    .dataframe thead th {\n",
       "        text-align: left;\n",
       "    }\n",
       "\n",
       "    .dataframe tbody tr th {\n",
       "        vertical-align: top;\n",
       "    }\n",
       "</style>\n",
       "<table border=\"1\" class=\"dataframe\">\n",
       "  <thead>\n",
       "    <tr style=\"text-align: right;\">\n",
       "      <th></th>\n",
       "      <th>age</th>\n",
       "      <th>sex</th>\n",
       "      <th>cp</th>\n",
       "      <th>trestbps</th>\n",
       "      <th>chol</th>\n",
       "      <th>fbs</th>\n",
       "      <th>restecg</th>\n",
       "      <th>thalach</th>\n",
       "      <th>exang</th>\n",
       "      <th>oldpeak</th>\n",
       "      <th>...</th>\n",
       "      <th>Decision_cluster_6</th>\n",
       "      <th>Decision_cluster_7</th>\n",
       "      <th>Decision_cluster_8</th>\n",
       "      <th>Decision_cluster_9</th>\n",
       "      <th>Decision_cluster_10</th>\n",
       "      <th>Decision_cluster_11</th>\n",
       "      <th>Decision_cluster_12</th>\n",
       "      <th>Decision_cluster_13</th>\n",
       "      <th>unlabeled</th>\n",
       "      <th>semi</th>\n",
       "    </tr>\n",
       "  </thead>\n",
       "  <tbody>\n",
       "    <tr>\n",
       "      <th>0</th>\n",
       "      <td>0.948726</td>\n",
       "      <td>0.686202</td>\n",
       "      <td>-2.251775</td>\n",
       "      <td>0.757525</td>\n",
       "      <td>-0.264900</td>\n",
       "      <td>2.394438</td>\n",
       "      <td>1.016684</td>\n",
       "      <td>0.017197</td>\n",
       "      <td>-0.696631</td>\n",
       "      <td>1.087338</td>\n",
       "      <td>...</td>\n",
       "      <td>0</td>\n",
       "      <td>0</td>\n",
       "      <td>0</td>\n",
       "      <td>0</td>\n",
       "      <td>0</td>\n",
       "      <td>0</td>\n",
       "      <td>1</td>\n",
       "      <td>0</td>\n",
       "      <td>0</td>\n",
       "      <td>0</td>\n",
       "    </tr>\n",
       "    <tr>\n",
       "      <th>1</th>\n",
       "      <td>-1.932564</td>\n",
       "      <td>0.686202</td>\n",
       "      <td>-0.165268</td>\n",
       "      <td>-0.096170</td>\n",
       "      <td>0.063974</td>\n",
       "      <td>-0.417635</td>\n",
       "      <td>-0.996749</td>\n",
       "      <td>1.637359</td>\n",
       "      <td>-0.696631</td>\n",
       "      <td>2.122573</td>\n",
       "      <td>...</td>\n",
       "      <td>0</td>\n",
       "      <td>0</td>\n",
       "      <td>0</td>\n",
       "      <td>0</td>\n",
       "      <td>1</td>\n",
       "      <td>0</td>\n",
       "      <td>0</td>\n",
       "      <td>0</td>\n",
       "      <td>0</td>\n",
       "      <td>0</td>\n",
       "    </tr>\n",
       "    <tr>\n",
       "      <th>2</th>\n",
       "      <td>-1.489288</td>\n",
       "      <td>-1.457296</td>\n",
       "      <td>-1.208521</td>\n",
       "      <td>-0.096170</td>\n",
       "      <td>-0.825922</td>\n",
       "      <td>-0.417635</td>\n",
       "      <td>1.016684</td>\n",
       "      <td>0.980537</td>\n",
       "      <td>-0.696631</td>\n",
       "      <td>0.310912</td>\n",
       "      <td>...</td>\n",
       "      <td>0</td>\n",
       "      <td>0</td>\n",
       "      <td>0</td>\n",
       "      <td>0</td>\n",
       "      <td>0</td>\n",
       "      <td>0</td>\n",
       "      <td>0</td>\n",
       "      <td>0</td>\n",
       "      <td>0</td>\n",
       "      <td>0</td>\n",
       "    </tr>\n",
       "    <tr>\n",
       "      <th>3</th>\n",
       "      <td>0.172994</td>\n",
       "      <td>0.686202</td>\n",
       "      <td>-1.208521</td>\n",
       "      <td>-0.665300</td>\n",
       "      <td>-0.206864</td>\n",
       "      <td>-0.417635</td>\n",
       "      <td>-0.996749</td>\n",
       "      <td>1.243266</td>\n",
       "      <td>-0.696631</td>\n",
       "      <td>-0.206705</td>\n",
       "      <td>...</td>\n",
       "      <td>0</td>\n",
       "      <td>0</td>\n",
       "      <td>0</td>\n",
       "      <td>0</td>\n",
       "      <td>0</td>\n",
       "      <td>0</td>\n",
       "      <td>0</td>\n",
       "      <td>0</td>\n",
       "      <td>0</td>\n",
       "      <td>0</td>\n",
       "    </tr>\n",
       "    <tr>\n",
       "      <th>4</th>\n",
       "      <td>0.283813</td>\n",
       "      <td>-1.457296</td>\n",
       "      <td>0.877985</td>\n",
       "      <td>-0.665300</td>\n",
       "      <td>2.075914</td>\n",
       "      <td>-0.417635</td>\n",
       "      <td>-0.996749</td>\n",
       "      <td>0.586443</td>\n",
       "      <td>1.435481</td>\n",
       "      <td>-0.379244</td>\n",
       "      <td>...</td>\n",
       "      <td>1</td>\n",
       "      <td>0</td>\n",
       "      <td>0</td>\n",
       "      <td>0</td>\n",
       "      <td>0</td>\n",
       "      <td>0</td>\n",
       "      <td>0</td>\n",
       "      <td>0</td>\n",
       "      <td>1</td>\n",
       "      <td>1</td>\n",
       "    </tr>\n",
       "  </tbody>\n",
       "</table>\n",
       "<p>5 rows × 73 columns</p>\n",
       "</div>"
      ],
      "text/plain": [
       "        age       sex        cp  trestbps      chol       fbs   restecg  \\\n",
       "0  0.948726  0.686202 -2.251775  0.757525 -0.264900  2.394438  1.016684   \n",
       "1 -1.932564  0.686202 -0.165268 -0.096170  0.063974 -0.417635 -0.996749   \n",
       "2 -1.489288 -1.457296 -1.208521 -0.096170 -0.825922 -0.417635  1.016684   \n",
       "3  0.172994  0.686202 -1.208521 -0.665300 -0.206864 -0.417635 -0.996749   \n",
       "4  0.283813 -1.457296  0.877985 -0.665300  2.075914 -0.417635 -0.996749   \n",
       "\n",
       "    thalach     exang   oldpeak  ...   Decision_cluster_6  Decision_cluster_7  \\\n",
       "0  0.017197 -0.696631  1.087338  ...                    0                   0   \n",
       "1  1.637359 -0.696631  2.122573  ...                    0                   0   \n",
       "2  0.980537 -0.696631  0.310912  ...                    0                   0   \n",
       "3  1.243266 -0.696631 -0.206705  ...                    0                   0   \n",
       "4  0.586443  1.435481 -0.379244  ...                    1                   0   \n",
       "\n",
       "   Decision_cluster_8  Decision_cluster_9  Decision_cluster_10  \\\n",
       "0                   0                   0                    0   \n",
       "1                   0                   0                    1   \n",
       "2                   0                   0                    0   \n",
       "3                   0                   0                    0   \n",
       "4                   0                   0                    0   \n",
       "\n",
       "   Decision_cluster_11  Decision_cluster_12  Decision_cluster_13  unlabeled  \\\n",
       "0                    0                    1                    0          0   \n",
       "1                    0                    0                    0          0   \n",
       "2                    0                    0                    0          0   \n",
       "3                    0                    0                    0          0   \n",
       "4                    0                    0                    0          1   \n",
       "\n",
       "   semi  \n",
       "0     0  \n",
       "1     0  \n",
       "2     0  \n",
       "3     0  \n",
       "4     1  \n",
       "\n",
       "[5 rows x 73 columns]"
      ]
     },
     "execution_count": 126,
     "metadata": {},
     "output_type": "execute_result"
    }
   ],
   "source": [
    "mislabeled.head()"
   ]
  },
  {
   "cell_type": "code",
   "execution_count": null,
   "metadata": {},
   "outputs": [],
   "source": []
  },
  {
   "cell_type": "code",
   "execution_count": null,
   "metadata": {
    "collapsed": true
   },
   "outputs": [],
   "source": []
  }
 ],
 "metadata": {
  "kernelspec": {
   "display_name": "Python 3",
   "language": "python",
   "name": "python3"
  },
  "language_info": {
   "codemirror_mode": {
    "name": "ipython",
    "version": 3
   },
   "file_extension": ".py",
   "mimetype": "text/x-python",
   "name": "python",
   "nbconvert_exporter": "python",
   "pygments_lexer": "ipython3",
   "version": "3.6.2"
  }
 },
 "nbformat": 4,
 "nbformat_minor": 2
}
